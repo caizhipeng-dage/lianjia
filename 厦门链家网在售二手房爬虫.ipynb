{
 "cells": [
  {
   "cell_type": "code",
   "execution_count": 1,
   "metadata": {
    "ExecuteTime": {
     "end_time": "2020-09-22T00:43:14.432849Z",
     "start_time": "2020-09-22T00:43:12.628141Z"
    }
   },
   "outputs": [],
   "source": [
    "import random\n",
    "import time\n",
    "from datetime import date\n",
    "from bs4 import BeautifulSoup\n",
    "import requests\n",
    "import pandas as pd\n",
    "pd.set_option('display.max_columns', None)"
   ]
  },
  {
   "cell_type": "markdown",
   "metadata": {},
   "source": [
    "## 生成每个页面的链接"
   ]
  },
  {
   "cell_type": "markdown",
   "metadata": {},
   "source": [
    "通过链家网的搜索结果可以看出，二手房源数量有3万多个，由于网站最多只显示100个页面的房源，每个页面30个房源，所以无法采集到厦门所有的二手房数据，这里采用分区域采集，思明湖里集美海沧，这4个区的房源数量都超过3000个，但只能采集到3000个，翔安同安的房源都可以采集到。"
   ]
  },
  {
   "cell_type": "code",
   "execution_count": 2,
   "metadata": {
    "ExecuteTime": {
     "end_time": "2020-09-22T00:43:21.773885Z",
     "start_time": "2020-09-22T00:43:21.757891Z"
    }
   },
   "outputs": [
    {
     "data": {
      "text/plain": [
       "541"
      ]
     },
     "execution_count": 2,
     "metadata": {},
     "output_type": "execute_result"
    }
   ],
   "source": [
    "# 定义函数，生成网址\n",
    "def make_urls(location, n):\n",
    "    '''\n",
    "    location：区域\n",
    "    n：页面数量\n",
    "    '''\n",
    "    urls = []\n",
    "    for i in range(1, n+1):\n",
    "        url = 'https://xm.lianjia.com/ershoufang/{}/pg{}/'.format(location, i)\n",
    "        urls.append(url)\n",
    "    return urls\n",
    "\n",
    "\n",
    "siming = make_urls('siming', 100)  # 思明有100个页面\n",
    "huli = make_urls('huli', 100)  # 湖里有100个页面\n",
    "jimei = make_urls('jimei', 100)  # 集美有100个页面\n",
    "haicang = make_urls('haicang', 100)  # 海沧有100个页面\n",
    "xiangan = make_urls('xiangan', 95)  # 翔安有95个页面\n",
    "tongan = make_urls('tongan', 46)  # 同安有46个页面\n",
    "\n",
    "# 所有网址汇总起来\n",
    "xm_urls_list = siming + huli + jimei + haicang + xiangan + tongan\n",
    "len(xm_urls_list)"
   ]
  },
  {
   "cell_type": "markdown",
   "metadata": {},
   "source": [
    "## 处理 User-Agent 和 Cookie "
   ]
  },
  {
   "cell_type": "code",
   "execution_count": 3,
   "metadata": {
    "ExecuteTime": {
     "end_time": "2020-09-22T00:43:25.112737Z",
     "start_time": "2020-09-22T00:43:25.104757Z"
    }
   },
   "outputs": [],
   "source": [
    "# 定义函数，用来处理User-Agent和Cookie\n",
    "def ua_ck():\n",
    "    '''\n",
    "    网站需要登录才能采集，需要从Network--Doc里复制User-Agent和Cookie，Cookie要转化为字典\n",
    "    '''\n",
    "\n",
    "    user_agent = {\n",
    "        'User-Agent': 'Mozilla/5.0 (Windows NT 10.0; Win64; x64) AppleWebKit/537.36 (KHTML, like Gecko) Chrome/85.0.4183.102 Safari/537.36'}\n",
    "\n",
    "    cookies = 'select_city=350200; lianjia_uuid=c6bb527e-c73e-4c18-80a2-0e6c701d4f40; _smt_uid=5f649daa.382e09bd; UM_distinctid=174a107e3f6810-0ca2d4a8dbcaa8-333769-125f51-174a107e3f7c3e; _ga=GA1.2.1661642603.1600429486; _gid=GA1.2.527914271.1600429486; Hm_lvt_9152f8221cb6243a53c83b956842be8a=1600429483,1600476524; sensorsdata2015jssdkcross=%7B%22distinct_id%22%3A%22174a107e556cb9-037ed71a329a2c-333769-1204049-174a107e557d11%22%2C%22%24device_id%22%3A%22174a107e556cb9-037ed71a329a2c-333769-1204049-174a107e557d11%22%2C%22props%22%3A%7B%22%24latest_traffic_source_type%22%3A%22%E7%9B%B4%E6%8E%A5%E6%B5%81%E9%87%8F%22%2C%22%24latest_referrer%22%3A%22%22%2C%22%24latest_referrer_host%22%3A%22%22%2C%22%24latest_search_keyword%22%3A%22%E6%9C%AA%E5%8F%96%E5%88%B0%E5%80%BC_%E7%9B%B4%E6%8E%A5%E6%89%93%E5%BC%80%22%7D%7D; lianjia_ssid=0857e41c-7ca8-24c2-7d18-e2b4b02e4d13; User-Realip=140.243.198.151; CNZZDATA1254525948=1557469094-1600424880-%7C1600525641; CNZZDATA1255847100=75444696-1600427554-%7C1600525837; CNZZDATA1255633284=1437618958-1600429218-%7C1600526300; CNZZDATA1255604082=1475741897-1600429003-%7C1600526307; _gat=1; _gat_global=1; _gat_new_global=1; _gat_dianpu_agent=1; Hm_lpvt_9152f8221cb6243a53c83b956842be8a=1600527516; srcid=eyJ0Ijoie1wiZGF0YVwiOlwiYTE5NzE1ZDYzZjIzMDQ0NTQ5NWUzYmFlOTQxYTI1Nzg0YWZlZjk5MDI4NDJjYjU5YWE1YjEyYTg5YzYzODM5ODU3YmJlNTc1NGU3OTlkODU3NzA1NGM2ZGRkY2YxNWYxMjdiMGYyNGQ3ZjEzNTdmOWM1NDRmMjgxYjRhM2NlYjU2MDBlZGUxZDA0YjgxMWFmZTRhODk2ZGM3YjRlMmEwMWVjNDQ4YjQ1NjJmODQ2MWM2MDRiM2Q1N2NlMjk1YmZkYzk0YTFjMjUzYzkyYTM2NDBjOWUzNzg3ZjkyOWI2MmE2MTRlMzVhNmU4NDJmMDlkNWNhNGM4MDM0Y2ZhNzMzYjBlZTViYzg4OTA2YWNmNWNjM2Y3YmQ1MjQwMTA4MDVmMGY4ZTE0OTAzNjNjMjVmZDcwN2RhNWU3YjIzMTE2ZTliM2QyYjM5ZTJmYjQ3NmJkMWQ5MTA0NDA4ZTMzMzJmZVwiLFwia2V5X2lkXCI6XCIxXCIsXCJzaWduXCI6XCJkZmYxZTM4NVwifSIsInIiOiJodHRwczovL3htLmxpYW5qaWEuY29tL2Vyc2hvdWZhbmcvIiwib3MiOiJ3ZWIiLCJ2IjoiMC4xIn0='\n",
    "\n",
    "    # Cookie转化为字典\n",
    "    cookies = cookies.split('; ')\n",
    "    cookies_dict = {}\n",
    "    for i in cookies:\n",
    "        cookies_dict[i.split('=')[0]] = i.split('=')[1]\n",
    "\n",
    "    return user_agent, cookies_dict"
   ]
  },
  {
   "cell_type": "markdown",
   "metadata": {},
   "source": [
    "## 获取每个房源的链接"
   ]
  },
  {
   "cell_type": "code",
   "execution_count": 5,
   "metadata": {
    "ExecuteTime": {
     "end_time": "2020-09-22T00:43:32.234427Z",
     "start_time": "2020-09-22T00:43:32.229439Z"
    }
   },
   "outputs": [],
   "source": [
    "# 定义函数，获取房源链接\n",
    "def get_urls(url, u_a, c_d):\n",
    "    '''\n",
    "    url：每一个页面的链接\n",
    "    u_a：User-Agent\n",
    "    c_d：cookies\n",
    "    '''\n",
    "    \n",
    "    html = requests.get(url, headers=u_a, cookies=c_d)\n",
    "    soup = BeautifulSoup(html.text, 'html.parser')\n",
    "    items = soup.find('ul', class_='sellListContent').find_all(\n",
    "        'div', class_='info clear')\n",
    "    hrefs = []\n",
    "    for item in items:\n",
    "        href = item.find('div', class_='title').find('a')['href']\n",
    "        hrefs.append(href)\n",
    "    return hrefs\n",
    "\n",
    "# get_urls('https://xm.lianjia.com/ershoufang/pg1/')"
   ]
  },
  {
   "cell_type": "markdown",
   "metadata": {},
   "source": [
    "## 获取每个房源详细信息"
   ]
  },
  {
   "cell_type": "code",
   "execution_count": 6,
   "metadata": {
    "ExecuteTime": {
     "end_time": "2020-09-22T00:43:36.417658Z",
     "start_time": "2020-09-22T00:43:36.405726Z"
    }
   },
   "outputs": [],
   "source": [
    "def get_info(url, u_a, c_d):\n",
    "    '''\n",
    "    url：每一个页面的链接\n",
    "    u_a：User-Agent\n",
    "    c_d：cookies\n",
    "    '''\n",
    "    \n",
    "    html = requests.get(url, headers=u_a, cookies=c_d)\n",
    "    html.encoding = html.apparent_encoding  # 解决乱码的万金油方法\n",
    "    soup = BeautifulSoup(html.text, 'html.parser')\n",
    "\n",
    "    results = []\n",
    "    info = {}\n",
    "\n",
    "    a = soup.find('div', class_='overview').find('div', class_='content')\n",
    "    info['房源链接'] = url\n",
    "    info['总价'] = a.find('div', class_='price').find(\n",
    "        'span', class_='total').text\n",
    "    info['总价单位'] = a.find('div', class_='price').find(\n",
    "        'span', class_='unit').text\n",
    "    info['单价'] = a.find('div', class_='price').find('div', class_='text').find(\n",
    "        'div', class_='unitPrice').find('span', class_='unitPriceValue').text\n",
    "    info['小区名称'] = a.find('div', class_='aroundInfo').find(\n",
    "        'div', class_='communityName').find('a').text\n",
    "    info['所在大区'] = a.find('div', class_='aroundInfo').find(\n",
    "        'div', class_='areaName').find('span', class_='info').find_all('a')[0].text\n",
    "    info['所在详细区域'] = a.find('div', class_='aroundInfo').find(\n",
    "        'div', class_='areaName').find('span', class_='info').find_all('a')[1].text\n",
    "\n",
    "    b = soup.find('div', class_='m-content').find('div', class_='introContent')\n",
    "\n",
    "    # 基本属性\n",
    "    items1 = b.find('div', class_='base').find_all('li')\n",
    "    for item in items1:\n",
    "        info[item.text[:4]] = item.text[4:]\n",
    "\n",
    "    # 交易属性\n",
    "    items2 = b.find('div', class_='transaction').find_all('li')\n",
    "    for item in items2:\n",
    "        info[item.find_all('span')[0].text] = item.find_all('span')[1].text\n",
    "\n",
    "    results.append(info)\n",
    "    return results\n",
    "\n",
    "\n",
    "# get_info('https://xm.lianjia.com/ershoufang/105105063079.html', u_a, c_d)"
   ]
  },
  {
   "cell_type": "markdown",
   "metadata": {},
   "source": [
    "## 设置主函数"
   ]
  },
  {
   "cell_type": "code",
   "execution_count": 6,
   "metadata": {},
   "outputs": [],
   "source": [
    "# def main():\n",
    "#     house_urls = []  # 保存房源链接\n",
    "\n",
    "#     print('开始采集房源链接！预计耗时1小时......')\n",
    "\n",
    "#     house_urls_error = []\n",
    "\n",
    "#     login = ua_ck()\n",
    "#     u_a = login[0]\n",
    "#     c_d = login[1]\n",
    "\n",
    "#     for url in house_urls:\n",
    "#         try:\n",
    "#             href = get_urls(url, u_a, c_d)\n",
    "#             house_urls.extend(href)\n",
    "#         except:\n",
    "#             house_urls_error.append(url)\n",
    "#         time.sleep(random.random()*3)\n",
    "\n",
    "#     print('房源链接采集完成！共采集{}条链接，开始采集房源信息，预计耗时10小时......'.format(len(house_urls)))\n",
    "\n",
    "#     time.sleep(5)\n",
    "\n",
    "#     data = []  # 保存房源详细信息\n",
    "#     data_error = []\n",
    "#     for house_url in house_urls:\n",
    "#         try:\n",
    "#             info = get_info(house_url, u_a, c_d)\n",
    "#             data.extend(info)\n",
    "#         except:\n",
    "#             data_error.append(house_url)\n",
    "#         time.sleep(random.random()*3)\n",
    "#         print('已采集{}条数据'.format(len(data)))  # 监控采集进度\n",
    "\n",
    "#     print('房源信息采集完成！！！总共采集了{}条数据'.format(len(data)))\n",
    "\n",
    "#     return data, house_urls, house_urls_error, data_error"
   ]
  },
  {
   "cell_type": "markdown",
   "metadata": {},
   "source": [
    "直接用主函数采集房源链接和房源信息，容易失败，建议分批采集"
   ]
  },
  {
   "cell_type": "markdown",
   "metadata": {},
   "source": [
    "## 采集房源链接"
   ]
  },
  {
   "cell_type": "code",
   "execution_count": 7,
   "metadata": {
    "ExecuteTime": {
     "end_time": "2020-09-22T00:44:18.280915Z",
     "start_time": "2020-09-22T00:44:18.276961Z"
    }
   },
   "outputs": [],
   "source": [
    "# 开始采集数据\n",
    "login = ua_ck()\n",
    "u_a = login[0]\n",
    "c_d = login[1]"
   ]
  },
  {
   "cell_type": "code",
   "execution_count": 13,
   "metadata": {},
   "outputs": [],
   "source": [
    "house_urls = []  # 保存房源链接\n",
    "error_url = []  # 保存采集失败的页面链接\n",
    "for url in xm_urls_list:\n",
    "    try:\n",
    "        href = get_urls(url, u_a, c_d)\n",
    "        house_urls.extend(href)\n",
    "    except:\n",
    "        error_data.append(url)\n",
    "    time.sleep(random.random()*4)  # 设置时间间隔\n",
    "    \n",
    "    print('已采集{}条数据'.format(len(house_urls)))  # 监控采集进度\n",
    "\n",
    "print('房源链接采集完成！！！总共采集了{}条链接'.format(len(house_urls)))"
   ]
  },
  {
   "cell_type": "code",
   "execution_count": 46,
   "metadata": {},
   "outputs": [
    {
     "data": {
      "text/plain": [
       "16219"
      ]
     },
     "execution_count": 46,
     "metadata": {},
     "output_type": "execute_result"
    }
   ],
   "source": [
    "len(house_urls)"
   ]
  },
  {
   "cell_type": "code",
   "execution_count": 27,
   "metadata": {},
   "outputs": [
    {
     "data": {
      "text/plain": [
       "[]"
      ]
     },
     "execution_count": 27,
     "metadata": {},
     "output_type": "execute_result"
    }
   ],
   "source": [
    "error_url  # 查看采集失败的页面链接"
   ]
  },
  {
   "cell_type": "code",
   "execution_count": null,
   "metadata": {},
   "outputs": [],
   "source": [
    "# 把链接先保存起来\n",
    "save_list = pd.DataFrame({'url': house_urls})\n",
    "save_list.to_excel(r'厦门二手房源链接_{}.xlsx'.format(date.today()))"
   ]
  },
  {
   "cell_type": "markdown",
   "metadata": {},
   "source": [
    "## 分批采集房源信息"
   ]
  },
  {
   "cell_type": "code",
   "execution_count": 16,
   "metadata": {},
   "outputs": [
    {
     "name": "stdout",
     "output_type": "stream",
     "text": [
      "房源信息采集完成！！！总共采集了1500条数据\n"
     ]
    }
   ],
   "source": [
    "data = []  # 保存房源详细信息\n",
    "error_data = []  # 保存采集失败的链接\n",
    "\n",
    "# 采集前3000条\n",
    "for house_url in house_urls[:3000]:\n",
    "    try:\n",
    "        info = get_info(house_url, u_a, c_d)\n",
    "        data.extend(info)\n",
    "    except:\n",
    "        error_data.append(house_url)\n",
    "        print('采集失败{}条'.format(len(error_data)))\n",
    "    time.sleep(random.random()*3)  # 设置时间间隔\n",
    "    \n",
    "    print('已采集{}条数据'.format(len(data)))  # 监控采集进度\n",
    "\n",
    "print('房源信息采集完成！！！总共采集了{}条数据'.format(len(data)))"
   ]
  },
  {
   "cell_type": "code",
   "execution_count": 21,
   "metadata": {},
   "outputs": [],
   "source": [
    "time.sleep(200)"
   ]
  },
  {
   "cell_type": "code",
   "execution_count": 62,
   "metadata": {},
   "outputs": [],
   "source": [
    "# 采集剩下的信息\n",
    "for house_url in house_urls[3000:]:\n",
    "    try:\n",
    "        info = get_info(house_url, u_a, c_d)\n",
    "        data.extend(info)\n",
    "    except:\n",
    "        error_data.append(house_url)\n",
    "        print('采集失败{}条'.format(len(error_data)))\n",
    "    time.sleep(random.random()*3)\n",
    "    \n",
    "    print('已采集{}条数据'.format(len(data)))\n",
    "\n",
    "print('房源信息采集完成！！！总共采集了{}条数据'.format(len(data)))"
   ]
  },
  {
   "cell_type": "code",
   "execution_count": 65,
   "metadata": {},
   "outputs": [
    {
     "data": {
      "text/plain": [
       "13807"
      ]
     },
     "execution_count": 65,
     "metadata": {},
     "output_type": "execute_result"
    }
   ],
   "source": [
    "data[:5]"
   ]
  },
  {
   "cell_type": "code",
   "execution_count": null,
   "metadata": {},
   "outputs": [],
   "source": [
    "error_data"
   ]
  },
  {
   "cell_type": "markdown",
   "metadata": {},
   "source": [
    "## 将结果保存为本地文件"
   ]
  },
  {
   "cell_type": "code",
   "execution_count": 25,
   "metadata": {
    "ExecuteTime": {
     "end_time": "2020-09-22T11:45:22.211211Z",
     "start_time": "2020-09-22T11:45:22.065602Z"
    },
    "scrolled": false
   },
   "outputs": [
    {
     "data": {
      "text/html": [
       "<div>\n",
       "<style scoped>\n",
       "    .dataframe tbody tr th:only-of-type {\n",
       "        vertical-align: middle;\n",
       "    }\n",
       "\n",
       "    .dataframe tbody tr th {\n",
       "        vertical-align: top;\n",
       "    }\n",
       "\n",
       "    .dataframe thead th {\n",
       "        text-align: right;\n",
       "    }\n",
       "</style>\n",
       "<table border=\"1\" class=\"dataframe\">\n",
       "  <thead>\n",
       "    <tr style=\"text-align: right;\">\n",
       "      <th></th>\n",
       "      <th>房源链接</th>\n",
       "      <th>总价</th>\n",
       "      <th>总价单位</th>\n",
       "      <th>单价</th>\n",
       "      <th>小区名称</th>\n",
       "      <th>所在大区</th>\n",
       "      <th>所在详细区域</th>\n",
       "      <th>房屋户型</th>\n",
       "      <th>所在楼层</th>\n",
       "      <th>建筑面积</th>\n",
       "      <th>户型结构</th>\n",
       "      <th>套内面积</th>\n",
       "      <th>建筑类型</th>\n",
       "      <th>房屋朝向</th>\n",
       "      <th>建筑结构</th>\n",
       "      <th>装修情况</th>\n",
       "      <th>梯户比例</th>\n",
       "      <th>配备电梯</th>\n",
       "      <th>挂牌时间</th>\n",
       "      <th>交易权属</th>\n",
       "      <th>上次交易</th>\n",
       "      <th>房屋用途</th>\n",
       "      <th>房屋年限</th>\n",
       "      <th>产权所属</th>\n",
       "      <th>抵押信息</th>\n",
       "      <th>房本备件</th>\n",
       "      <th>房源编码</th>\n",
       "      <th>用水类型</th>\n",
       "      <th>用电类型</th>\n",
       "      <th>燃气价格</th>\n",
       "      <th>别墅类型</th>\n",
       "    </tr>\n",
       "  </thead>\n",
       "  <tbody>\n",
       "    <tr>\n",
       "      <th>0</th>\n",
       "      <td>https://xm.lianjia.com/ershoufang/105104628729...</td>\n",
       "      <td>660</td>\n",
       "      <td>万</td>\n",
       "      <td>51985元/平米</td>\n",
       "      <td>玉成豪园</td>\n",
       "      <td>思明</td>\n",
       "      <td>莲前</td>\n",
       "      <td>3室1厅1厨2卫</td>\n",
       "      <td>低楼层 (共19层)</td>\n",
       "      <td>126.96㎡</td>\n",
       "      <td>平层</td>\n",
       "      <td>暂无数据</td>\n",
       "      <td>板楼</td>\n",
       "      <td>东南</td>\n",
       "      <td>钢混结构</td>\n",
       "      <td>精装</td>\n",
       "      <td>两梯两户</td>\n",
       "      <td>有</td>\n",
       "      <td>2020-06-18</td>\n",
       "      <td>商品房</td>\n",
       "      <td>2020-06-20</td>\n",
       "      <td>普通住宅</td>\n",
       "      <td>未满两年</td>\n",
       "      <td>共有</td>\n",
       "      <td>\\n                                有抵押 30万元 建设银...</td>\n",
       "      <td>已上传房本照片</td>\n",
       "      <td>00381041</td>\n",
       "      <td>NaN</td>\n",
       "      <td>NaN</td>\n",
       "      <td>NaN</td>\n",
       "      <td>NaN</td>\n",
       "    </tr>\n",
       "    <tr>\n",
       "      <th>1</th>\n",
       "      <td>https://xm.lianjia.com/ershoufang/105104643967...</td>\n",
       "      <td>789.7</td>\n",
       "      <td>万</td>\n",
       "      <td>53000元/平米</td>\n",
       "      <td>海豚湾</td>\n",
       "      <td>思明</td>\n",
       "      <td>会展中心</td>\n",
       "      <td>3室2厅1厨2卫</td>\n",
       "      <td>低楼层 (共32层)</td>\n",
       "      <td>149㎡</td>\n",
       "      <td>错层</td>\n",
       "      <td>暂无数据</td>\n",
       "      <td>塔楼</td>\n",
       "      <td>东南</td>\n",
       "      <td>框架结构</td>\n",
       "      <td>精装</td>\n",
       "      <td>两梯两户</td>\n",
       "      <td>有</td>\n",
       "      <td>2020-06-20</td>\n",
       "      <td>商品房</td>\n",
       "      <td>暂无数据</td>\n",
       "      <td>普通住宅</td>\n",
       "      <td>暂无数据</td>\n",
       "      <td>共有</td>\n",
       "      <td>\\n                                无抵押\\n       ...</td>\n",
       "      <td>未上传房本照片</td>\n",
       "      <td>NaN</td>\n",
       "      <td>NaN</td>\n",
       "      <td>NaN</td>\n",
       "      <td>NaN</td>\n",
       "      <td>NaN</td>\n",
       "    </tr>\n",
       "    <tr>\n",
       "      <th>2</th>\n",
       "      <td>https://xm.lianjia.com/ershoufang/105104685921...</td>\n",
       "      <td>1080</td>\n",
       "      <td>万</td>\n",
       "      <td>80796元/平米</td>\n",
       "      <td>蓝湾国际</td>\n",
       "      <td>思明</td>\n",
       "      <td>体育中心</td>\n",
       "      <td>3室2厅1厨1卫</td>\n",
       "      <td>低楼层 (共31层)</td>\n",
       "      <td>133.67㎡</td>\n",
       "      <td>平层</td>\n",
       "      <td>暂无数据</td>\n",
       "      <td>板楼</td>\n",
       "      <td>东南</td>\n",
       "      <td>钢混结构</td>\n",
       "      <td>精装</td>\n",
       "      <td>三梯三户</td>\n",
       "      <td>有</td>\n",
       "      <td>2020-06-26</td>\n",
       "      <td>商品房</td>\n",
       "      <td>暂无数据</td>\n",
       "      <td>普通住宅</td>\n",
       "      <td>暂无数据</td>\n",
       "      <td>非共有</td>\n",
       "      <td>\\n                                无抵押\\n       ...</td>\n",
       "      <td>未上传房本照片</td>\n",
       "      <td>00248646</td>\n",
       "      <td>NaN</td>\n",
       "      <td>NaN</td>\n",
       "      <td>NaN</td>\n",
       "      <td>NaN</td>\n",
       "    </tr>\n",
       "    <tr>\n",
       "      <th>3</th>\n",
       "      <td>https://xm.lianjia.com/ershoufang/105104731779...</td>\n",
       "      <td>378</td>\n",
       "      <td>万</td>\n",
       "      <td>48055元/平米</td>\n",
       "      <td>长青路</td>\n",
       "      <td>思明</td>\n",
       "      <td>莲坂</td>\n",
       "      <td>3室2厅1厨1卫</td>\n",
       "      <td>高楼层 (共7层)</td>\n",
       "      <td>78.66㎡</td>\n",
       "      <td>平层</td>\n",
       "      <td>暂无数据</td>\n",
       "      <td>板楼</td>\n",
       "      <td>南 北</td>\n",
       "      <td>框架结构</td>\n",
       "      <td>简装</td>\n",
       "      <td>一梯七户</td>\n",
       "      <td>无</td>\n",
       "      <td>2020-07-02</td>\n",
       "      <td>商品房</td>\n",
       "      <td>暂无数据</td>\n",
       "      <td>普通住宅</td>\n",
       "      <td>暂无数据</td>\n",
       "      <td>非共有</td>\n",
       "      <td>\\n                                无抵押\\n       ...</td>\n",
       "      <td>未上传房本照片</td>\n",
       "      <td>NaN</td>\n",
       "      <td>NaN</td>\n",
       "      <td>NaN</td>\n",
       "      <td>NaN</td>\n",
       "      <td>NaN</td>\n",
       "    </tr>\n",
       "    <tr>\n",
       "      <th>4</th>\n",
       "      <td>https://xm.lianjia.com/ershoufang/105104745249...</td>\n",
       "      <td>360</td>\n",
       "      <td>万</td>\n",
       "      <td>41040元/平米</td>\n",
       "      <td>仙岳东村</td>\n",
       "      <td>思明</td>\n",
       "      <td>仙岳社区</td>\n",
       "      <td>3室1厅1厨1卫</td>\n",
       "      <td>中楼层 (共7层)</td>\n",
       "      <td>87.72㎡</td>\n",
       "      <td>平层</td>\n",
       "      <td>暂无数据</td>\n",
       "      <td>板楼</td>\n",
       "      <td>南 北</td>\n",
       "      <td>混合结构</td>\n",
       "      <td>精装</td>\n",
       "      <td>一梯一户</td>\n",
       "      <td>无</td>\n",
       "      <td>2020-07-03</td>\n",
       "      <td>商品房</td>\n",
       "      <td>暂无数据</td>\n",
       "      <td>普通住宅</td>\n",
       "      <td>暂无数据</td>\n",
       "      <td>共有</td>\n",
       "      <td>\\n                                无抵押\\n       ...</td>\n",
       "      <td>未上传房本照片</td>\n",
       "      <td>00353448</td>\n",
       "      <td>NaN</td>\n",
       "      <td>NaN</td>\n",
       "      <td>NaN</td>\n",
       "      <td>NaN</td>\n",
       "    </tr>\n",
       "    <tr>\n",
       "      <th>...</th>\n",
       "      <td>...</td>\n",
       "      <td>...</td>\n",
       "      <td>...</td>\n",
       "      <td>...</td>\n",
       "      <td>...</td>\n",
       "      <td>...</td>\n",
       "      <td>...</td>\n",
       "      <td>...</td>\n",
       "      <td>...</td>\n",
       "      <td>...</td>\n",
       "      <td>...</td>\n",
       "      <td>...</td>\n",
       "      <td>...</td>\n",
       "      <td>...</td>\n",
       "      <td>...</td>\n",
       "      <td>...</td>\n",
       "      <td>...</td>\n",
       "      <td>...</td>\n",
       "      <td>...</td>\n",
       "      <td>...</td>\n",
       "      <td>...</td>\n",
       "      <td>...</td>\n",
       "      <td>...</td>\n",
       "      <td>...</td>\n",
       "      <td>...</td>\n",
       "      <td>...</td>\n",
       "      <td>...</td>\n",
       "      <td>...</td>\n",
       "      <td>...</td>\n",
       "      <td>...</td>\n",
       "      <td>...</td>\n",
       "    </tr>\n",
       "    <tr>\n",
       "      <th>10420</th>\n",
       "      <td>https://xm.lianjia.com/ershoufang/105102630770...</td>\n",
       "      <td>2500</td>\n",
       "      <td>万</td>\n",
       "      <td>109228元/平米</td>\n",
       "      <td>中铁元湾</td>\n",
       "      <td>湖里</td>\n",
       "      <td>五缘湾</td>\n",
       "      <td>4室2厅1厨3卫</td>\n",
       "      <td>中楼层 (共10层)</td>\n",
       "      <td>228.88㎡</td>\n",
       "      <td>平层</td>\n",
       "      <td>暂无数据</td>\n",
       "      <td>板楼</td>\n",
       "      <td>南 西南</td>\n",
       "      <td>钢混结构</td>\n",
       "      <td>精装</td>\n",
       "      <td>三梯两户</td>\n",
       "      <td>有</td>\n",
       "      <td>2019-07-05</td>\n",
       "      <td>商品房</td>\n",
       "      <td>暂无数据</td>\n",
       "      <td>普通住宅</td>\n",
       "      <td>暂无数据</td>\n",
       "      <td>非共有</td>\n",
       "      <td>\\n                                无抵押\\n       ...</td>\n",
       "      <td>未上传房本照片</td>\n",
       "      <td>00358258</td>\n",
       "      <td>NaN</td>\n",
       "      <td>NaN</td>\n",
       "      <td>NaN</td>\n",
       "      <td>NaN</td>\n",
       "    </tr>\n",
       "    <tr>\n",
       "      <th>10421</th>\n",
       "      <td>https://xm.lianjia.com/ershoufang/105103545098...</td>\n",
       "      <td>400</td>\n",
       "      <td>万</td>\n",
       "      <td>39790元/平米</td>\n",
       "      <td>金山小区</td>\n",
       "      <td>湖里</td>\n",
       "      <td>金山</td>\n",
       "      <td>3室2厅1厨2卫</td>\n",
       "      <td>高楼层 (共6层)</td>\n",
       "      <td>100.53㎡</td>\n",
       "      <td>平层</td>\n",
       "      <td>暂无数据</td>\n",
       "      <td>板楼</td>\n",
       "      <td>北 南</td>\n",
       "      <td>钢混结构</td>\n",
       "      <td>简装</td>\n",
       "      <td>一梯两户</td>\n",
       "      <td>无</td>\n",
       "      <td>2019-12-14</td>\n",
       "      <td>商品房</td>\n",
       "      <td>2004-09-09</td>\n",
       "      <td>普通住宅</td>\n",
       "      <td>满五年</td>\n",
       "      <td>非共有</td>\n",
       "      <td>\\n                                无抵押\\n       ...</td>\n",
       "      <td>已上传房本照片</td>\n",
       "      <td>00408340</td>\n",
       "      <td>NaN</td>\n",
       "      <td>NaN</td>\n",
       "      <td>NaN</td>\n",
       "      <td>NaN</td>\n",
       "    </tr>\n",
       "    <tr>\n",
       "      <th>10422</th>\n",
       "      <td>https://xm.lianjia.com/ershoufang/105105206165...</td>\n",
       "      <td>137</td>\n",
       "      <td>万</td>\n",
       "      <td>26863元/平米</td>\n",
       "      <td>禹洲大学城</td>\n",
       "      <td>集美</td>\n",
       "      <td>集美其它</td>\n",
       "      <td>2室1厅1厨1卫</td>\n",
       "      <td>高楼层 (共34层)</td>\n",
       "      <td>51㎡</td>\n",
       "      <td>平层</td>\n",
       "      <td>暂无数据</td>\n",
       "      <td>塔楼</td>\n",
       "      <td>北</td>\n",
       "      <td>钢混结构</td>\n",
       "      <td>精装</td>\n",
       "      <td>三梯六户</td>\n",
       "      <td>有</td>\n",
       "      <td>2020-08-30</td>\n",
       "      <td>商品房</td>\n",
       "      <td>暂无数据</td>\n",
       "      <td>普通住宅</td>\n",
       "      <td>暂无数据</td>\n",
       "      <td>共有</td>\n",
       "      <td>\\n                                有抵押 50万元 建设银...</td>\n",
       "      <td>未上传房本照片</td>\n",
       "      <td>00489649</td>\n",
       "      <td>NaN</td>\n",
       "      <td>NaN</td>\n",
       "      <td>NaN</td>\n",
       "      <td>NaN</td>\n",
       "    </tr>\n",
       "    <tr>\n",
       "      <th>10423</th>\n",
       "      <td>https://xm.lianjia.com/ershoufang/105105262197...</td>\n",
       "      <td>282</td>\n",
       "      <td>万</td>\n",
       "      <td>24737元/平米</td>\n",
       "      <td>凤凰花城</td>\n",
       "      <td>集美</td>\n",
       "      <td>锦园</td>\n",
       "      <td>3室2厅1厨2卫</td>\n",
       "      <td>低楼层 (共27层)</td>\n",
       "      <td>114㎡</td>\n",
       "      <td>平层</td>\n",
       "      <td>暂无数据</td>\n",
       "      <td>板塔结合</td>\n",
       "      <td>东南</td>\n",
       "      <td>钢混结构</td>\n",
       "      <td>精装</td>\n",
       "      <td>两梯四户</td>\n",
       "      <td>有</td>\n",
       "      <td>2020-09-06</td>\n",
       "      <td>商品房</td>\n",
       "      <td>暂无数据</td>\n",
       "      <td>普通住宅</td>\n",
       "      <td>暂无数据</td>\n",
       "      <td>共有</td>\n",
       "      <td>\\n                                有抵押\\n       ...</td>\n",
       "      <td>未上传房本照片</td>\n",
       "      <td>00488028</td>\n",
       "      <td>NaN</td>\n",
       "      <td>NaN</td>\n",
       "      <td>NaN</td>\n",
       "      <td>NaN</td>\n",
       "    </tr>\n",
       "    <tr>\n",
       "      <th>10424</th>\n",
       "      <td>https://xm.lianjia.com/ershoufang/105104141069...</td>\n",
       "      <td>245</td>\n",
       "      <td>万</td>\n",
       "      <td>28865元/平米</td>\n",
       "      <td>世茂御海墅</td>\n",
       "      <td>翔安</td>\n",
       "      <td>翔安新城</td>\n",
       "      <td>3室2厅1厨1卫</td>\n",
       "      <td>中楼层 (共18层)</td>\n",
       "      <td>84.88㎡</td>\n",
       "      <td>暂无数据</td>\n",
       "      <td>暂无数据</td>\n",
       "      <td>板塔结合</td>\n",
       "      <td>南</td>\n",
       "      <td>钢混结构</td>\n",
       "      <td>精装</td>\n",
       "      <td>两梯四户</td>\n",
       "      <td>有</td>\n",
       "      <td>2020-04-19</td>\n",
       "      <td>商品房</td>\n",
       "      <td>暂无数据</td>\n",
       "      <td>普通住宅</td>\n",
       "      <td>暂无数据</td>\n",
       "      <td>非共有</td>\n",
       "      <td>\\n                                有抵押 88万元 厦门银...</td>\n",
       "      <td>未上传房本照片</td>\n",
       "      <td>00494022</td>\n",
       "      <td>NaN</td>\n",
       "      <td>NaN</td>\n",
       "      <td>NaN</td>\n",
       "      <td>NaN</td>\n",
       "    </tr>\n",
       "  </tbody>\n",
       "</table>\n",
       "<p>10425 rows × 31 columns</p>\n",
       "</div>"
      ],
      "text/plain": [
       "                                                    房源链接     总价 总价单位  \\\n",
       "0      https://xm.lianjia.com/ershoufang/105104628729...    660    万   \n",
       "1      https://xm.lianjia.com/ershoufang/105104643967...  789.7    万   \n",
       "2      https://xm.lianjia.com/ershoufang/105104685921...   1080    万   \n",
       "3      https://xm.lianjia.com/ershoufang/105104731779...    378    万   \n",
       "4      https://xm.lianjia.com/ershoufang/105104745249...    360    万   \n",
       "...                                                  ...    ...  ...   \n",
       "10420  https://xm.lianjia.com/ershoufang/105102630770...   2500    万   \n",
       "10421  https://xm.lianjia.com/ershoufang/105103545098...    400    万   \n",
       "10422  https://xm.lianjia.com/ershoufang/105105206165...    137    万   \n",
       "10423  https://xm.lianjia.com/ershoufang/105105262197...    282    万   \n",
       "10424  https://xm.lianjia.com/ershoufang/105104141069...    245    万   \n",
       "\n",
       "               单价   小区名称 所在大区 所在详细区域      房屋户型        所在楼层     建筑面积  户型结构  \\\n",
       "0       51985元/平米   玉成豪园   思明     莲前  3室1厅1厨2卫  低楼层 (共19层)  126.96㎡    平层   \n",
       "1       53000元/平米    海豚湾   思明   会展中心  3室2厅1厨2卫  低楼层 (共32层)     149㎡    错层   \n",
       "2       80796元/平米   蓝湾国际   思明   体育中心  3室2厅1厨1卫  低楼层 (共31层)  133.67㎡    平层   \n",
       "3       48055元/平米    长青路   思明     莲坂  3室2厅1厨1卫   高楼层 (共7层)   78.66㎡    平层   \n",
       "4       41040元/平米   仙岳东村   思明   仙岳社区  3室1厅1厨1卫   中楼层 (共7层)   87.72㎡    平层   \n",
       "...           ...    ...  ...    ...       ...         ...      ...   ...   \n",
       "10420  109228元/平米   中铁元湾   湖里    五缘湾  4室2厅1厨3卫  中楼层 (共10层)  228.88㎡    平层   \n",
       "10421   39790元/平米   金山小区   湖里     金山  3室2厅1厨2卫   高楼层 (共6层)  100.53㎡    平层   \n",
       "10422   26863元/平米  禹洲大学城   集美   集美其它  2室1厅1厨1卫  高楼层 (共34层)      51㎡    平层   \n",
       "10423   24737元/平米   凤凰花城   集美     锦园  3室2厅1厨2卫  低楼层 (共27层)     114㎡    平层   \n",
       "10424   28865元/平米  世茂御海墅   翔安   翔安新城  3室2厅1厨1卫  中楼层 (共18层)   84.88㎡  暂无数据   \n",
       "\n",
       "       套内面积  建筑类型  房屋朝向  建筑结构 装修情况  梯户比例 配备电梯        挂牌时间 交易权属        上次交易  \\\n",
       "0      暂无数据    板楼    东南  钢混结构   精装  两梯两户    有  2020-06-18  商品房  2020-06-20   \n",
       "1      暂无数据    塔楼    东南  框架结构   精装  两梯两户    有  2020-06-20  商品房        暂无数据   \n",
       "2      暂无数据    板楼    东南  钢混结构   精装  三梯三户    有  2020-06-26  商品房        暂无数据   \n",
       "3      暂无数据    板楼   南 北  框架结构   简装  一梯七户    无  2020-07-02  商品房        暂无数据   \n",
       "4      暂无数据    板楼   南 北  混合结构   精装  一梯一户    无  2020-07-03  商品房        暂无数据   \n",
       "...     ...   ...   ...   ...  ...   ...  ...         ...  ...         ...   \n",
       "10420  暂无数据    板楼  南 西南  钢混结构   精装  三梯两户    有  2019-07-05  商品房        暂无数据   \n",
       "10421  暂无数据    板楼   北 南  钢混结构   简装  一梯两户    无  2019-12-14  商品房  2004-09-09   \n",
       "10422  暂无数据    塔楼     北  钢混结构   精装  三梯六户    有  2020-08-30  商品房        暂无数据   \n",
       "10423  暂无数据  板塔结合    东南  钢混结构   精装  两梯四户    有  2020-09-06  商品房        暂无数据   \n",
       "10424  暂无数据  板塔结合     南  钢混结构   精装  两梯四户    有  2020-04-19  商品房        暂无数据   \n",
       "\n",
       "       房屋用途  房屋年限 产权所属                                               抵押信息  \\\n",
       "0      普通住宅  未满两年   共有  \\n                                有抵押 30万元 建设银...   \n",
       "1      普通住宅  暂无数据   共有  \\n                                无抵押\\n       ...   \n",
       "2      普通住宅  暂无数据  非共有  \\n                                无抵押\\n       ...   \n",
       "3      普通住宅  暂无数据  非共有  \\n                                无抵押\\n       ...   \n",
       "4      普通住宅  暂无数据   共有  \\n                                无抵押\\n       ...   \n",
       "...     ...   ...  ...                                                ...   \n",
       "10420  普通住宅  暂无数据  非共有  \\n                                无抵押\\n       ...   \n",
       "10421  普通住宅   满五年  非共有  \\n                                无抵押\\n       ...   \n",
       "10422  普通住宅  暂无数据   共有  \\n                                有抵押 50万元 建设银...   \n",
       "10423  普通住宅  暂无数据   共有  \\n                                有抵押\\n       ...   \n",
       "10424  普通住宅  暂无数据  非共有  \\n                                有抵押 88万元 厦门银...   \n",
       "\n",
       "          房本备件      房源编码 用水类型 用电类型 燃气价格 别墅类型  \n",
       "0      已上传房本照片  00381041  NaN  NaN  NaN  NaN  \n",
       "1      未上传房本照片       NaN  NaN  NaN  NaN  NaN  \n",
       "2      未上传房本照片  00248646  NaN  NaN  NaN  NaN  \n",
       "3      未上传房本照片       NaN  NaN  NaN  NaN  NaN  \n",
       "4      未上传房本照片  00353448  NaN  NaN  NaN  NaN  \n",
       "...        ...       ...  ...  ...  ...  ...  \n",
       "10420  未上传房本照片  00358258  NaN  NaN  NaN  NaN  \n",
       "10421  已上传房本照片  00408340  NaN  NaN  NaN  NaN  \n",
       "10422  未上传房本照片  00489649  NaN  NaN  NaN  NaN  \n",
       "10423  未上传房本照片  00488028  NaN  NaN  NaN  NaN  \n",
       "10424  未上传房本照片  00494022  NaN  NaN  NaN  NaN  \n",
       "\n",
       "[10425 rows x 31 columns]"
      ]
     },
     "execution_count": 25,
     "metadata": {},
     "output_type": "execute_result"
    }
   ],
   "source": [
    "df = pd.DataFrame(data)\n",
    "df"
   ]
  },
  {
   "cell_type": "code",
   "execution_count": 26,
   "metadata": {
    "ExecuteTime": {
     "end_time": "2020-09-22T11:45:42.538745Z",
     "start_time": "2020-09-22T11:45:36.851857Z"
    }
   },
   "outputs": [],
   "source": [
    "# 保存为本地Excel文件，文件名包含采集时间\n",
    "df.to_excel(r\"厦门链家网二手房爬虫数据_{}.xlsx\".format(date.today()))"
   ]
  },
  {
   "cell_type": "code",
   "execution_count": 40,
   "metadata": {},
   "outputs": [],
   "source": []
  }
 ],
 "metadata": {
  "kernelspec": {
   "display_name": "Python 3",
   "language": "python",
   "name": "python3"
  },
  "language_info": {
   "codemirror_mode": {
    "name": "ipython",
    "version": 3
   },
   "file_extension": ".py",
   "mimetype": "text/x-python",
   "name": "python",
   "nbconvert_exporter": "python",
   "pygments_lexer": "ipython3",
   "version": "3.7.7"
  },
  "toc": {
   "base_numbering": 1,
   "nav_menu": {},
   "number_sections": true,
   "sideBar": true,
   "skip_h1_title": false,
   "title_cell": "Table of Contents",
   "title_sidebar": "Contents",
   "toc_cell": false,
   "toc_position": {},
   "toc_section_display": true,
   "toc_window_display": false
  },
  "varInspector": {
   "cols": {
    "lenName": 16,
    "lenType": 16,
    "lenVar": 40
   },
   "kernels_config": {
    "python": {
     "delete_cmd_postfix": "",
     "delete_cmd_prefix": "del ",
     "library": "var_list.py",
     "varRefreshCmd": "print(var_dic_list())"
    },
    "r": {
     "delete_cmd_postfix": ") ",
     "delete_cmd_prefix": "rm(",
     "library": "var_list.r",
     "varRefreshCmd": "cat(var_dic_list()) "
    }
   },
   "types_to_exclude": [
    "module",
    "function",
    "builtin_function_or_method",
    "instance",
    "_Feature"
   ],
   "window_display": false
  }
 },
 "nbformat": 4,
 "nbformat_minor": 2
}
