{
 "cells": [
  {
   "cell_type": "markdown",
   "metadata": {},
   "source": [
    "## 前言\n",
    "本项目基于 2020-9-22 采集的厦门在售二手房数据，目的是构建一个简易的二手房价格预测模型。因为模型最后输出的是具体数值，所以项目中的模型属于回归模型。项目包括6个步骤：数据清洗、特征选择、数据转换、划分训练集和测试集、构建模型、模型优化。"
   ]
  },
  {
   "cell_type": "code",
   "execution_count": 1,
   "metadata": {
    "ExecuteTime": {
     "end_time": "2020-10-05T10:11:02.934872Z",
     "start_time": "2020-10-05T10:11:01.323913Z"
    }
   },
   "outputs": [
    {
     "name": "stderr",
     "output_type": "stream",
     "text": [
      "\n",
      "Bad key \"text.kerning_factor\" on line 4 in\n",
      "D:\\Program Files (x86)\\Anaconda3\\lib\\site-packages\\matplotlib\\mpl-data\\stylelib\\_classic_test_patch.mplstyle.\n",
      "You probably need to get an updated matplotlibrc file from\n",
      "https://github.com/matplotlib/matplotlib/blob/v3.1.3/matplotlibrc.template\n",
      "or from the matplotlib source distribution\n"
     ]
    }
   ],
   "source": [
    "import numpy as np\n",
    "import re\n",
    "import warnings\n",
    "import pandas as pd\n",
    "pd.set_option('display.max_columns', None)  # 显示所有列\n",
    "import matplotlib.pyplot as plt\n",
    "%matplotlib inline\n",
    "plt.rcParams['font.sans-serif'] = ['SimHei']  # 图表可以显示中文\n",
    "plt.rcParams['axes.unicode_minus'] = False    # 图表可以显示负号\n",
    "import seaborn as sns\n",
    "warnings.filterwarnings('ignore')\n",
    "from sklearn.feature_extraction import DictVectorizer  # 实现独热编码\n",
    "from sklearn.model_selection import train_test_split,GridSearchCV  # 拆分数据集，模型调优\n",
    "from sklearn.tree import DecisionTreeRegressor  # 决策树回归\n",
    "from sklearn.neighbors import KNeighborsRegressor  # KNN回归\n",
    "from sklearn.linear_model import LinearRegression  # 线性回归\n",
    "from sklearn.ensemble import AdaBoostRegressor  # AdaBoost回归\n",
    "from sklearn.metrics import mean_absolute_error  # 平均绝对误差\n",
    "from sklearn.metrics import mean_squared_error  # 均方误差\n",
    "from sklearn.metrics import r2_score  # 拟合度\n",
    "from sklearn.metrics import make_scorer  # 积分函数\n",
    "from sklearn.model_selection import KFold  # 交叉验证"
   ]
  },
  {
   "cell_type": "markdown",
   "metadata": {},
   "source": [
    "## 数据概览"
   ]
  },
  {
   "cell_type": "code",
   "execution_count": 2,
   "metadata": {
    "ExecuteTime": {
     "end_time": "2020-10-05T10:11:07.631040Z",
     "start_time": "2020-10-05T10:11:02.935821Z"
    },
    "scrolled": false
   },
   "outputs": [
    {
     "data": {
      "text/html": [
       "<div>\n",
       "<style scoped>\n",
       "    .dataframe tbody tr th:only-of-type {\n",
       "        vertical-align: middle;\n",
       "    }\n",
       "\n",
       "    .dataframe tbody tr th {\n",
       "        vertical-align: top;\n",
       "    }\n",
       "\n",
       "    .dataframe thead th {\n",
       "        text-align: right;\n",
       "    }\n",
       "</style>\n",
       "<table border=\"1\" class=\"dataframe\">\n",
       "  <thead>\n",
       "    <tr style=\"text-align: right;\">\n",
       "      <th></th>\n",
       "      <th>Unnamed: 0</th>\n",
       "      <th>房源链接</th>\n",
       "      <th>总价</th>\n",
       "      <th>总价单位</th>\n",
       "      <th>单价</th>\n",
       "      <th>小区名称</th>\n",
       "      <th>所在大区</th>\n",
       "      <th>所在详细区域</th>\n",
       "      <th>房屋户型</th>\n",
       "      <th>所在楼层</th>\n",
       "      <th>建筑面积</th>\n",
       "      <th>户型结构</th>\n",
       "      <th>套内面积</th>\n",
       "      <th>建筑类型</th>\n",
       "      <th>房屋朝向</th>\n",
       "      <th>建筑结构</th>\n",
       "      <th>装修情况</th>\n",
       "      <th>梯户比例</th>\n",
       "      <th>配备电梯</th>\n",
       "      <th>挂牌时间</th>\n",
       "      <th>交易权属</th>\n",
       "      <th>上次交易</th>\n",
       "      <th>房屋用途</th>\n",
       "      <th>房屋年限</th>\n",
       "      <th>产权所属</th>\n",
       "      <th>抵押信息</th>\n",
       "      <th>房本备件</th>\n",
       "      <th>房源编码</th>\n",
       "      <th>用水类型</th>\n",
       "      <th>用电类型</th>\n",
       "      <th>燃气价格</th>\n",
       "      <th>别墅类型</th>\n",
       "    </tr>\n",
       "  </thead>\n",
       "  <tbody>\n",
       "    <tr>\n",
       "      <th>0</th>\n",
       "      <td>0</td>\n",
       "      <td>https://xm.lianjia.com/ershoufang/105104628729...</td>\n",
       "      <td>660.0</td>\n",
       "      <td>万</td>\n",
       "      <td>51985元/平米</td>\n",
       "      <td>玉成豪园</td>\n",
       "      <td>思明</td>\n",
       "      <td>莲前</td>\n",
       "      <td>3室1厅1厨2卫</td>\n",
       "      <td>低楼层 (共19层)</td>\n",
       "      <td>126.96㎡</td>\n",
       "      <td>平层</td>\n",
       "      <td>暂无数据</td>\n",
       "      <td>板楼</td>\n",
       "      <td>东南</td>\n",
       "      <td>钢混结构</td>\n",
       "      <td>精装</td>\n",
       "      <td>两梯两户</td>\n",
       "      <td>有</td>\n",
       "      <td>2020-06-18</td>\n",
       "      <td>商品房</td>\n",
       "      <td>2020-06-20</td>\n",
       "      <td>普通住宅</td>\n",
       "      <td>未满两年</td>\n",
       "      <td>共有</td>\n",
       "      <td>\\n                                有抵押 30万元 建设银...</td>\n",
       "      <td>已上传房本照片</td>\n",
       "      <td>00381041</td>\n",
       "      <td>NaN</td>\n",
       "      <td>NaN</td>\n",
       "      <td>NaN</td>\n",
       "      <td>NaN</td>\n",
       "    </tr>\n",
       "    <tr>\n",
       "      <th>1</th>\n",
       "      <td>1</td>\n",
       "      <td>https://xm.lianjia.com/ershoufang/105104643967...</td>\n",
       "      <td>789.7</td>\n",
       "      <td>万</td>\n",
       "      <td>53000元/平米</td>\n",
       "      <td>海豚湾</td>\n",
       "      <td>思明</td>\n",
       "      <td>会展中心</td>\n",
       "      <td>3室2厅1厨2卫</td>\n",
       "      <td>低楼层 (共32层)</td>\n",
       "      <td>149㎡</td>\n",
       "      <td>错层</td>\n",
       "      <td>暂无数据</td>\n",
       "      <td>塔楼</td>\n",
       "      <td>东南</td>\n",
       "      <td>框架结构</td>\n",
       "      <td>精装</td>\n",
       "      <td>两梯两户</td>\n",
       "      <td>有</td>\n",
       "      <td>2020-06-20</td>\n",
       "      <td>商品房</td>\n",
       "      <td>暂无数据</td>\n",
       "      <td>普通住宅</td>\n",
       "      <td>暂无数据</td>\n",
       "      <td>共有</td>\n",
       "      <td>\\n                                无抵押\\n       ...</td>\n",
       "      <td>未上传房本照片</td>\n",
       "      <td>NaN</td>\n",
       "      <td>NaN</td>\n",
       "      <td>NaN</td>\n",
       "      <td>NaN</td>\n",
       "      <td>NaN</td>\n",
       "    </tr>\n",
       "    <tr>\n",
       "      <th>2</th>\n",
       "      <td>2</td>\n",
       "      <td>https://xm.lianjia.com/ershoufang/105104685921...</td>\n",
       "      <td>1080.0</td>\n",
       "      <td>万</td>\n",
       "      <td>80796元/平米</td>\n",
       "      <td>蓝湾国际</td>\n",
       "      <td>思明</td>\n",
       "      <td>体育中心</td>\n",
       "      <td>3室2厅1厨1卫</td>\n",
       "      <td>低楼层 (共31层)</td>\n",
       "      <td>133.67㎡</td>\n",
       "      <td>平层</td>\n",
       "      <td>暂无数据</td>\n",
       "      <td>板楼</td>\n",
       "      <td>东南</td>\n",
       "      <td>钢混结构</td>\n",
       "      <td>精装</td>\n",
       "      <td>三梯三户</td>\n",
       "      <td>有</td>\n",
       "      <td>2020-06-26</td>\n",
       "      <td>商品房</td>\n",
       "      <td>暂无数据</td>\n",
       "      <td>普通住宅</td>\n",
       "      <td>暂无数据</td>\n",
       "      <td>非共有</td>\n",
       "      <td>\\n                                无抵押\\n       ...</td>\n",
       "      <td>未上传房本照片</td>\n",
       "      <td>00248646</td>\n",
       "      <td>NaN</td>\n",
       "      <td>NaN</td>\n",
       "      <td>NaN</td>\n",
       "      <td>NaN</td>\n",
       "    </tr>\n",
       "  </tbody>\n",
       "</table>\n",
       "</div>"
      ],
      "text/plain": [
       "   Unnamed: 0                                               房源链接      总价 总价单位  \\\n",
       "0           0  https://xm.lianjia.com/ershoufang/105104628729...   660.0    万   \n",
       "1           1  https://xm.lianjia.com/ershoufang/105104643967...   789.7    万   \n",
       "2           2  https://xm.lianjia.com/ershoufang/105104685921...  1080.0    万   \n",
       "\n",
       "          单价  小区名称 所在大区 所在详细区域      房屋户型        所在楼层     建筑面积 户型结构  套内面积 建筑类型  \\\n",
       "0  51985元/平米  玉成豪园   思明     莲前  3室1厅1厨2卫  低楼层 (共19层)  126.96㎡   平层  暂无数据   板楼   \n",
       "1  53000元/平米   海豚湾   思明   会展中心  3室2厅1厨2卫  低楼层 (共32层)     149㎡   错层  暂无数据   塔楼   \n",
       "2  80796元/平米  蓝湾国际   思明   体育中心  3室2厅1厨1卫  低楼层 (共31层)  133.67㎡   平层  暂无数据   板楼   \n",
       "\n",
       "  房屋朝向  建筑结构 装修情况  梯户比例 配备电梯        挂牌时间 交易权属        上次交易  房屋用途  房屋年限 产权所属  \\\n",
       "0   东南  钢混结构   精装  两梯两户    有  2020-06-18  商品房  2020-06-20  普通住宅  未满两年   共有   \n",
       "1   东南  框架结构   精装  两梯两户    有  2020-06-20  商品房        暂无数据  普通住宅  暂无数据   共有   \n",
       "2   东南  钢混结构   精装  三梯三户    有  2020-06-26  商品房        暂无数据  普通住宅  暂无数据  非共有   \n",
       "\n",
       "                                                抵押信息     房本备件      房源编码 用水类型  \\\n",
       "0  \\n                                有抵押 30万元 建设银...  已上传房本照片  00381041  NaN   \n",
       "1  \\n                                无抵押\\n       ...  未上传房本照片       NaN  NaN   \n",
       "2  \\n                                无抵押\\n       ...  未上传房本照片  00248646  NaN   \n",
       "\n",
       "  用电类型 燃气价格 别墅类型  \n",
       "0  NaN  NaN  NaN  \n",
       "1  NaN  NaN  NaN  \n",
       "2  NaN  NaN  NaN  "
      ]
     },
     "execution_count": 2,
     "metadata": {},
     "output_type": "execute_result"
    }
   ],
   "source": [
    "# 在售房源数据\n",
    "df = pd.read_excel(r\"厦门链家网在售二手房爬虫数据_2020-09-22.xlsx\",dtype={'房源编码':str})\n",
    "df.head(3)"
   ]
  },
  {
   "cell_type": "code",
   "execution_count": 3,
   "metadata": {
    "ExecuteTime": {
     "end_time": "2020-10-05T10:11:07.663953Z",
     "start_time": "2020-10-05T10:11:07.632038Z"
    },
    "scrolled": false
   },
   "outputs": [
    {
     "name": "stdout",
     "output_type": "stream",
     "text": [
      "<class 'pandas.core.frame.DataFrame'>\n",
      "RangeIndex: 16219 entries, 0 to 16218\n",
      "Data columns (total 32 columns):\n",
      " #   Column      Non-Null Count  Dtype  \n",
      "---  ------      --------------  -----  \n",
      " 0   Unnamed: 0  16219 non-null  int64  \n",
      " 1   房源链接        16219 non-null  object \n",
      " 2   总价          16219 non-null  float64\n",
      " 3   总价单位        16219 non-null  object \n",
      " 4   单价          16219 non-null  object \n",
      " 5   小区名称        16219 non-null  object \n",
      " 6   所在大区        16219 non-null  object \n",
      " 7   所在详细区域      16218 non-null  object \n",
      " 8   房屋户型        15753 non-null  object \n",
      " 9   所在楼层        16219 non-null  object \n",
      " 10  建筑面积        16219 non-null  object \n",
      " 11  户型结构        15616 non-null  object \n",
      " 12  套内面积        15753 non-null  object \n",
      " 13  建筑类型        15616 non-null  object \n",
      " 14  房屋朝向        16219 non-null  object \n",
      " 15  建筑结构        15753 non-null  object \n",
      " 16  装修情况        15753 non-null  object \n",
      " 17  梯户比例        15616 non-null  object \n",
      " 18  配备电梯        15616 non-null  object \n",
      " 19  挂牌时间        16219 non-null  object \n",
      " 20  交易权属        16219 non-null  object \n",
      " 21  上次交易        16219 non-null  object \n",
      " 22  房屋用途        16219 non-null  object \n",
      " 23  房屋年限        16219 non-null  object \n",
      " 24  产权所属        16219 non-null  object \n",
      " 25  抵押信息        16219 non-null  object \n",
      " 26  房本备件        16219 non-null  object \n",
      " 27  房源编码        13408 non-null  object \n",
      " 28  用水类型        402 non-null    object \n",
      " 29  用电类型        402 non-null    object \n",
      " 30  燃气价格        86 non-null     object \n",
      " 31  别墅类型        104 non-null    object \n",
      "dtypes: float64(1), int64(1), object(30)\n",
      "memory usage: 4.0+ MB\n"
     ]
    }
   ],
   "source": [
    "df.info()"
   ]
  },
  {
   "cell_type": "markdown",
   "metadata": {},
   "source": [
    "## 数据清洗"
   ]
  },
  {
   "cell_type": "markdown",
   "metadata": {},
   "source": [
    "#### 重复值检查"
   ]
  },
  {
   "cell_type": "code",
   "execution_count": 4,
   "metadata": {
    "ExecuteTime": {
     "end_time": "2020-10-05T10:11:07.721797Z",
     "start_time": "2020-10-05T10:11:07.665947Z"
    }
   },
   "outputs": [
    {
     "name": "stdout",
     "output_type": "stream",
     "text": [
      "0\n"
     ]
    }
   ],
   "source": [
    "print(len(df[df.duplicated()])) # 查看重复值数量\n",
    "# df.drop_duplicates(inplace=True)  # 删除重复值"
   ]
  },
  {
   "cell_type": "code",
   "execution_count": 5,
   "metadata": {
    "ExecuteTime": {
     "end_time": "2020-10-05T10:11:07.730773Z",
     "start_time": "2020-10-05T10:11:07.722795Z"
    }
   },
   "outputs": [
    {
     "data": {
      "text/plain": [
       "万    16219\n",
       "Name: 总价单位, dtype: int64"
      ]
     },
     "execution_count": 5,
     "metadata": {},
     "output_type": "execute_result"
    }
   ],
   "source": [
    "# 检查总价单位是否统一\n",
    "df['总价单位'].value_counts()"
   ]
  },
  {
   "cell_type": "markdown",
   "metadata": {},
   "source": [
    "#### 检查空值"
   ]
  },
  {
   "cell_type": "code",
   "execution_count": 6,
   "metadata": {
    "ExecuteTime": {
     "end_time": "2020-10-05T10:11:07.737787Z",
     "start_time": "2020-10-05T10:11:07.732799Z"
    }
   },
   "outputs": [
    {
     "data": {
      "text/plain": [
       "Index(['Unnamed: 0', '房源链接', '总价', '总价单位', '单价', '小区名称', '所在大区', '所在详细区域',\n",
       "       '房屋户型', '所在楼层', '建筑面积', '户型结构', '套内面积', '建筑类型', '房屋朝向', '建筑结构', '装修情况',\n",
       "       '梯户比例', '配备电梯', '挂牌时间', '交易权属', '上次交易', '房屋用途', '房屋年限', '产权所属', '抵押信息',\n",
       "       '房本备件', '房源编码', '用水类型', '用电类型', '燃气价格', '别墅类型'],\n",
       "      dtype='object')"
      ]
     },
     "execution_count": 6,
     "metadata": {},
     "output_type": "execute_result"
    }
   ],
   "source": [
    "df.columns"
   ]
  },
  {
   "cell_type": "code",
   "execution_count": 7,
   "metadata": {
    "ExecuteTime": {
     "end_time": "2020-10-05T10:11:07.824557Z",
     "start_time": "2020-10-05T10:11:07.739750Z"
    }
   },
   "outputs": [],
   "source": [
    "# 把暂无数据的值替换为空值，原先空值先不动\n",
    "for column in df.columns:\n",
    "    df[column][df[column] == '暂无数据'] = np.nan"
   ]
  },
  {
   "cell_type": "code",
   "execution_count": 8,
   "metadata": {
    "ExecuteTime": {
     "end_time": "2020-10-05T10:11:07.852448Z",
     "start_time": "2020-10-05T10:11:07.826518Z"
    },
    "scrolled": false
   },
   "outputs": [
    {
     "name": "stdout",
     "output_type": "stream",
     "text": [
      "<class 'pandas.core.frame.DataFrame'>\n",
      "RangeIndex: 16219 entries, 0 to 16218\n",
      "Data columns (total 32 columns):\n",
      " #   Column      Non-Null Count  Dtype  \n",
      "---  ------      --------------  -----  \n",
      " 0   Unnamed: 0  16219 non-null  int64  \n",
      " 1   房源链接        16219 non-null  object \n",
      " 2   总价          16219 non-null  float64\n",
      " 3   总价单位        16219 non-null  object \n",
      " 4   单价          16219 non-null  object \n",
      " 5   小区名称        16219 non-null  object \n",
      " 6   所在大区        16219 non-null  object \n",
      " 7   所在详细区域      16218 non-null  object \n",
      " 8   房屋户型        15753 non-null  object \n",
      " 9   所在楼层        16219 non-null  object \n",
      " 10  建筑面积        16219 non-null  object \n",
      " 11  户型结构        14991 non-null  object \n",
      " 12  套内面积        1697 non-null   object \n",
      " 13  建筑类型        15183 non-null  object \n",
      " 14  房屋朝向        16219 non-null  object \n",
      " 15  建筑结构        15753 non-null  object \n",
      " 16  装修情况        15753 non-null  object \n",
      " 17  梯户比例        15616 non-null  object \n",
      " 18  配备电梯        14973 non-null  object \n",
      " 19  挂牌时间        16219 non-null  object \n",
      " 20  交易权属        16219 non-null  object \n",
      " 21  上次交易        7270 non-null   object \n",
      " 22  房屋用途        16219 non-null  object \n",
      " 23  房屋年限        7250 non-null   object \n",
      " 24  产权所属        16186 non-null  object \n",
      " 25  抵押信息        16219 non-null  object \n",
      " 26  房本备件        16219 non-null  object \n",
      " 27  房源编码        13408 non-null  object \n",
      " 28  用水类型        402 non-null    object \n",
      " 29  用电类型        402 non-null    object \n",
      " 30  燃气价格        86 non-null     object \n",
      " 31  别墅类型        69 non-null     object \n",
      "dtypes: float64(1), int64(1), object(30)\n",
      "memory usage: 4.0+ MB\n"
     ]
    }
   ],
   "source": [
    "df.info()"
   ]
  },
  {
   "cell_type": "code",
   "execution_count": 9,
   "metadata": {
    "ExecuteTime": {
     "end_time": "2020-10-05T10:11:07.873392Z",
     "start_time": "2020-10-05T10:11:07.853445Z"
    }
   },
   "outputs": [
    {
     "data": {
      "text/plain": [
       "Unnamed: 0    False\n",
       "房源链接          False\n",
       "总价            False\n",
       "总价单位          False\n",
       "单价            False\n",
       "小区名称          False\n",
       "所在大区          False\n",
       "所在详细区域         True\n",
       "房屋户型           True\n",
       "所在楼层          False\n",
       "建筑面积          False\n",
       "户型结构           True\n",
       "套内面积           True\n",
       "建筑类型           True\n",
       "房屋朝向          False\n",
       "建筑结构           True\n",
       "装修情况           True\n",
       "梯户比例           True\n",
       "配备电梯           True\n",
       "挂牌时间          False\n",
       "交易权属          False\n",
       "上次交易           True\n",
       "房屋用途          False\n",
       "房屋年限           True\n",
       "产权所属           True\n",
       "抵押信息          False\n",
       "房本备件          False\n",
       "房源编码           True\n",
       "用水类型           True\n",
       "用电类型           True\n",
       "燃气价格           True\n",
       "别墅类型           True\n",
       "dtype: bool"
      ]
     },
     "execution_count": 9,
     "metadata": {},
     "output_type": "execute_result"
    }
   ],
   "source": [
    "df.isnull().any()"
   ]
  },
  {
   "cell_type": "markdown",
   "metadata": {},
   "source": [
    "空值特征比较多，需要分别进行处理。"
   ]
  },
  {
   "cell_type": "markdown",
   "metadata": {},
   "source": [
    "#### 所在详细区域特征清洗"
   ]
  },
  {
   "cell_type": "code",
   "execution_count": 10,
   "metadata": {
    "ExecuteTime": {
     "end_time": "2020-10-05T10:11:07.901317Z",
     "start_time": "2020-10-05T10:11:07.874388Z"
    }
   },
   "outputs": [
    {
     "data": {
      "text/html": [
       "<div>\n",
       "<style scoped>\n",
       "    .dataframe tbody tr th:only-of-type {\n",
       "        vertical-align: middle;\n",
       "    }\n",
       "\n",
       "    .dataframe tbody tr th {\n",
       "        vertical-align: top;\n",
       "    }\n",
       "\n",
       "    .dataframe thead th {\n",
       "        text-align: right;\n",
       "    }\n",
       "</style>\n",
       "<table border=\"1\" class=\"dataframe\">\n",
       "  <thead>\n",
       "    <tr style=\"text-align: right;\">\n",
       "      <th></th>\n",
       "      <th>Unnamed: 0</th>\n",
       "      <th>房源链接</th>\n",
       "      <th>总价</th>\n",
       "      <th>总价单位</th>\n",
       "      <th>单价</th>\n",
       "      <th>小区名称</th>\n",
       "      <th>所在大区</th>\n",
       "      <th>所在详细区域</th>\n",
       "      <th>房屋户型</th>\n",
       "      <th>所在楼层</th>\n",
       "      <th>建筑面积</th>\n",
       "      <th>户型结构</th>\n",
       "      <th>套内面积</th>\n",
       "      <th>建筑类型</th>\n",
       "      <th>房屋朝向</th>\n",
       "      <th>建筑结构</th>\n",
       "      <th>装修情况</th>\n",
       "      <th>梯户比例</th>\n",
       "      <th>配备电梯</th>\n",
       "      <th>挂牌时间</th>\n",
       "      <th>交易权属</th>\n",
       "      <th>上次交易</th>\n",
       "      <th>房屋用途</th>\n",
       "      <th>房屋年限</th>\n",
       "      <th>产权所属</th>\n",
       "      <th>抵押信息</th>\n",
       "      <th>房本备件</th>\n",
       "      <th>房源编码</th>\n",
       "      <th>用水类型</th>\n",
       "      <th>用电类型</th>\n",
       "      <th>燃气价格</th>\n",
       "      <th>别墅类型</th>\n",
       "    </tr>\n",
       "  </thead>\n",
       "  <tbody>\n",
       "    <tr>\n",
       "      <th>5857</th>\n",
       "      <td>5857</td>\n",
       "      <td>https://xm.lianjia.com/ershoufang/105104214320...</td>\n",
       "      <td>316.0</td>\n",
       "      <td>万</td>\n",
       "      <td>16142元/平米</td>\n",
       "      <td>东坂花园</td>\n",
       "      <td>海沧</td>\n",
       "      <td>NaN</td>\n",
       "      <td>4室2厅1厨3卫</td>\n",
       "      <td>高楼层 (共10层)</td>\n",
       "      <td>195.77㎡</td>\n",
       "      <td>复式</td>\n",
       "      <td>NaN</td>\n",
       "      <td>NaN</td>\n",
       "      <td>南</td>\n",
       "      <td>未知结构</td>\n",
       "      <td>精装</td>\n",
       "      <td>一梯一户</td>\n",
       "      <td>有</td>\n",
       "      <td>2020-04-28</td>\n",
       "      <td>动迁安置房</td>\n",
       "      <td>2018-03-15</td>\n",
       "      <td>普通住宅</td>\n",
       "      <td>满两年</td>\n",
       "      <td>非共有</td>\n",
       "      <td>\\n                                有抵押 90万元 中国银...</td>\n",
       "      <td>已上传房本照片</td>\n",
       "      <td>00517931</td>\n",
       "      <td>NaN</td>\n",
       "      <td>NaN</td>\n",
       "      <td>NaN</td>\n",
       "      <td>NaN</td>\n",
       "    </tr>\n",
       "  </tbody>\n",
       "</table>\n",
       "</div>"
      ],
      "text/plain": [
       "      Unnamed: 0                                               房源链接     总价  \\\n",
       "5857        5857  https://xm.lianjia.com/ershoufang/105104214320...  316.0   \n",
       "\n",
       "     总价单位         单价  小区名称 所在大区 所在详细区域      房屋户型        所在楼层     建筑面积 户型结构  \\\n",
       "5857    万  16142元/平米  东坂花园   海沧    NaN  4室2厅1厨3卫  高楼层 (共10层)  195.77㎡   复式   \n",
       "\n",
       "     套内面积 建筑类型 房屋朝向  建筑结构 装修情况  梯户比例 配备电梯        挂牌时间   交易权属        上次交易  \\\n",
       "5857  NaN  NaN    南  未知结构   精装  一梯一户    有  2020-04-28  动迁安置房  2018-03-15   \n",
       "\n",
       "      房屋用途 房屋年限 产权所属                                               抵押信息  \\\n",
       "5857  普通住宅  满两年  非共有  \\n                                有抵押 90万元 中国银...   \n",
       "\n",
       "         房本备件      房源编码 用水类型 用电类型 燃气价格 别墅类型  \n",
       "5857  已上传房本照片  00517931  NaN  NaN  NaN  NaN  "
      ]
     },
     "execution_count": 10,
     "metadata": {},
     "output_type": "execute_result"
    }
   ],
   "source": [
    "df[df['所在详细区域'].isnull()]"
   ]
  },
  {
   "cell_type": "markdown",
   "metadata": {},
   "source": [
    "根据小区所在的区域位于翔安东孚，我们把空值填充为'东孚'"
   ]
  },
  {
   "cell_type": "code",
   "execution_count": 11,
   "metadata": {
    "ExecuteTime": {
     "end_time": "2020-10-05T10:11:07.908298Z",
     "start_time": "2020-10-05T10:11:07.903311Z"
    }
   },
   "outputs": [],
   "source": [
    "df['所在详细区域'].fillna('东孚',inplace=True)"
   ]
  },
  {
   "cell_type": "code",
   "execution_count": 12,
   "metadata": {
    "ExecuteTime": {
     "end_time": "2020-10-05T10:11:07.919268Z",
     "start_time": "2020-10-05T10:11:07.909295Z"
    }
   },
   "outputs": [
    {
     "data": {
      "text/plain": [
       "新店       1334\n",
       "翔安新城      813\n",
       "集美其它      759\n",
       "同安其它      629\n",
       "锦园        551\n",
       "         ... \n",
       "黄厝          4\n",
       "曾厝垵         4\n",
       "外国语学校       4\n",
       "软件园         2\n",
       "海沧农场        2\n",
       "Name: 所在详细区域, Length: 83, dtype: int64"
      ]
     },
     "execution_count": 12,
     "metadata": {},
     "output_type": "execute_result"
    }
   ],
   "source": [
    "df['所在详细区域'].value_counts()"
   ]
  },
  {
   "cell_type": "markdown",
   "metadata": {},
   "source": [
    "#### 房屋户型特征清洗"
   ]
  },
  {
   "cell_type": "code",
   "execution_count": 13,
   "metadata": {
    "ExecuteTime": {
     "end_time": "2020-10-05T10:11:07.931236Z",
     "start_time": "2020-10-05T10:11:07.921263Z"
    }
   },
   "outputs": [
    {
     "data": {
      "text/plain": [
       "3室2厅1厨2卫    3328\n",
       "2室2厅1厨1卫    2865\n",
       "2室1厅1厨1卫    2372\n",
       "3室2厅1厨1卫    1838\n",
       "4室2厅1厨2卫    1376\n",
       "            ... \n",
       "5室4厅1厨5卫       1\n",
       "9室3厅1厨7卫       1\n",
       "8室2厅2厨4卫       1\n",
       "6室4厅2厨6卫       1\n",
       "6室1厅1厨2卫       1\n",
       "Name: 房屋户型, Length: 161, dtype: int64"
      ]
     },
     "execution_count": 13,
     "metadata": {},
     "output_type": "execute_result"
    }
   ],
   "source": [
    "df['房屋户型'].value_counts()"
   ]
  },
  {
   "cell_type": "markdown",
   "metadata": {},
   "source": [
    "房屋户型特征的格式类似'3室2厅1厨2卫'，我们采用分列的方式来处理，新建'室'、'厅'、'厨'、'卫'4列，分别用来保存户型数据。"
   ]
  },
  {
   "cell_type": "code",
   "execution_count": 14,
   "metadata": {
    "ExecuteTime": {
     "end_time": "2020-10-05T10:11:08.010061Z",
     "start_time": "2020-10-05T10:11:07.932235Z"
    }
   },
   "outputs": [],
   "source": [
    "df['房屋户型'].fillna('0室0厅0厨0卫', inplace=True)\n",
    "find1 = re.compile('(\\d*)室(\\d*)厅(\\d*)厨(\\d*)卫')\n",
    "df['室'] = df['房屋户型'].map(lambda x: int(find1.findall(x)[0][0]))\n",
    "df['厅'] = df['房屋户型'].map(lambda x: int(find1.findall(x)[0][1]))\n",
    "df['厨'] = df['房屋户型'].map(lambda x: int(find1.findall(x)[0][2]))\n",
    "df['卫'] = df['房屋户型'].map(lambda x: int(find1.findall(x)[0][3]))"
   ]
  },
  {
   "cell_type": "markdown",
   "metadata": {},
   "source": [
    "#### 所在楼层特征清洗"
   ]
  },
  {
   "cell_type": "code",
   "execution_count": 15,
   "metadata": {
    "ExecuteTime": {
     "end_time": "2020-10-05T10:11:08.020002Z",
     "start_time": "2020-10-05T10:11:08.011052Z"
    }
   },
   "outputs": [
    {
     "data": {
      "text/plain": [
       "低楼层 (共18层)    635\n",
       "中楼层 (共7层)     621\n",
       "高楼层 (共7层)     571\n",
       "中楼层 (共18层)    540\n",
       "高楼层 (共18层)    479\n",
       "             ... \n",
       "中楼层 (共55层)      2\n",
       "低楼层 (共55层)      2\n",
       "高楼层 (共48层)      1\n",
       "地下室 (共33层)      1\n",
       "低楼层 (共52层)      1\n",
       "Name: 所在楼层, Length: 161, dtype: int64"
      ]
     },
     "execution_count": 15,
     "metadata": {},
     "output_type": "execute_result"
    }
   ],
   "source": [
    "df['所在楼层'].value_counts()"
   ]
  },
  {
   "cell_type": "markdown",
   "metadata": {},
   "source": [
    "所在楼层字段，拆分成2个字段，所在楼层字段只保留‘低楼层’、‘中楼层’等信息，新建‘总楼层’字段用来保存层数。"
   ]
  },
  {
   "cell_type": "code",
   "execution_count": 16,
   "metadata": {
    "ExecuteTime": {
     "end_time": "2020-10-05T10:11:08.054910Z",
     "start_time": "2020-10-05T10:11:08.021997Z"
    }
   },
   "outputs": [],
   "source": [
    "find2 = re.compile('\\d{1,3}')\n",
    "df['总楼层'] = df['所在楼层'].map(lambda x: int(find2.findall(x)[0]))\n",
    "df['所在楼层'] = df['所在楼层'].map(lambda x: x.split(' ')[0])"
   ]
  },
  {
   "cell_type": "markdown",
   "metadata": {},
   "source": [
    "#### 单价、建筑面积特征清洗"
   ]
  },
  {
   "cell_type": "code",
   "execution_count": 17,
   "metadata": {
    "ExecuteTime": {
     "end_time": "2020-10-05T10:11:08.097794Z",
     "start_time": "2020-10-05T10:11:08.056904Z"
    }
   },
   "outputs": [],
   "source": [
    "df['单价']=df['单价'].str.replace('元/平米','').astype(np.float64)\n",
    "df['建筑面积']=df['建筑面积'].str.replace('㎡','').astype(np.float64)"
   ]
  },
  {
   "cell_type": "markdown",
   "metadata": {},
   "source": [
    "#### 户型结构特征清洗"
   ]
  },
  {
   "cell_type": "code",
   "execution_count": 18,
   "metadata": {
    "ExecuteTime": {
     "end_time": "2020-10-05T10:11:08.106281Z",
     "start_time": "2020-10-05T10:11:08.098792Z"
    }
   },
   "outputs": [
    {
     "data": {
      "text/plain": [
       "平层    13487\n",
       "复式     1081\n",
       "错层      217\n",
       "跃层      206\n",
       "Name: 户型结构, dtype: int64"
      ]
     },
     "execution_count": 18,
     "metadata": {},
     "output_type": "execute_result"
    }
   ],
   "source": [
    "df['户型结构'].value_counts()"
   ]
  },
  {
   "cell_type": "code",
   "execution_count": 19,
   "metadata": {
    "ExecuteTime": {
     "end_time": "2020-10-05T10:11:08.114259Z",
     "start_time": "2020-10-05T10:11:08.108275Z"
    }
   },
   "outputs": [],
   "source": [
    "df['户型结构'].fillna('平层',inplace=True)"
   ]
  },
  {
   "cell_type": "markdown",
   "metadata": {},
   "source": [
    "#### 建筑类型特征清洗"
   ]
  },
  {
   "cell_type": "code",
   "execution_count": 20,
   "metadata": {
    "ExecuteTime": {
     "end_time": "2020-10-05T10:11:08.128221Z",
     "start_time": "2020-10-05T10:11:08.115256Z"
    }
   },
   "outputs": [
    {
     "data": {
      "text/plain": [
       "板楼      7871\n",
       "塔楼      3817\n",
       "板塔结合    3377\n",
       "平房       118\n",
       "Name: 建筑类型, dtype: int64"
      ]
     },
     "execution_count": 20,
     "metadata": {},
     "output_type": "execute_result"
    }
   ],
   "source": [
    "df['建筑类型'].value_counts()"
   ]
  },
  {
   "cell_type": "code",
   "execution_count": 21,
   "metadata": {
    "ExecuteTime": {
     "end_time": "2020-10-05T10:11:08.137197Z",
     "start_time": "2020-10-05T10:11:08.130216Z"
    }
   },
   "outputs": [],
   "source": [
    "df['建筑类型'].fillna('板楼',inplace=True)"
   ]
  },
  {
   "cell_type": "markdown",
   "metadata": {},
   "source": [
    "#### 房屋朝向特征清洗"
   ]
  },
  {
   "cell_type": "code",
   "execution_count": 22,
   "metadata": {
    "ExecuteTime": {
     "end_time": "2020-10-05T10:11:08.151160Z",
     "start_time": "2020-10-05T10:11:08.143182Z"
    }
   },
   "outputs": [
    {
     "data": {
      "text/plain": [
       "南              5330\n",
       "南 北            4204\n",
       "东南             2988\n",
       "北               545\n",
       "西南              531\n",
       "               ... \n",
       "东 东南 西            1\n",
       "东南 东 南 西南 西       1\n",
       "西 东 南             1\n",
       "东 西 北 东北          1\n",
       "南 西北 北 东北         1\n",
       "Name: 房屋朝向, Length: 117, dtype: int64"
      ]
     },
     "execution_count": 22,
     "metadata": {},
     "output_type": "execute_result"
    }
   ],
   "source": [
    "df['房屋朝向'].value_counts()"
   ]
  },
  {
   "cell_type": "markdown",
   "metadata": {},
   "source": [
    "房屋朝向格式模糊不规范，我们统一以第一方位为准，假如一个房屋的朝向是'东南 南 北 东北'，那我们以第一方位'东南'为准。"
   ]
  },
  {
   "cell_type": "code",
   "execution_count": 23,
   "metadata": {
    "ExecuteTime": {
     "end_time": "2020-10-05T10:11:08.167118Z",
     "start_time": "2020-10-05T10:11:08.153155Z"
    }
   },
   "outputs": [
    {
     "data": {
      "text/plain": [
       "南     9849\n",
       "东南    3448\n",
       "东      982\n",
       "北      685\n",
       "西南     616\n",
       "西      270\n",
       "西北     189\n",
       "东北     180\n",
       "Name: 房屋朝向, dtype: int64"
      ]
     },
     "execution_count": 23,
     "metadata": {},
     "output_type": "execute_result"
    }
   ],
   "source": [
    "df['房屋朝向']=df['房屋朝向'].map(lambda x: x.split(' ')[0])\n",
    "df['房屋朝向'].value_counts()"
   ]
  },
  {
   "cell_type": "markdown",
   "metadata": {},
   "source": [
    "#### 建筑结构特征清洗"
   ]
  },
  {
   "cell_type": "code",
   "execution_count": 24,
   "metadata": {
    "ExecuteTime": {
     "end_time": "2020-10-05T10:11:08.176094Z",
     "start_time": "2020-10-05T10:11:08.168115Z"
    }
   },
   "outputs": [
    {
     "data": {
      "text/plain": [
       "钢混结构    12213\n",
       "框架结构     1872\n",
       "砖混结构      651\n",
       "混合结构      509\n",
       "未知结构      414\n",
       "钢结构        91\n",
       "砖木结构        3\n",
       "Name: 建筑结构, dtype: int64"
      ]
     },
     "execution_count": 24,
     "metadata": {},
     "output_type": "execute_result"
    }
   ],
   "source": [
    "df['建筑结构'].value_counts()"
   ]
  },
  {
   "cell_type": "code",
   "execution_count": 25,
   "metadata": {
    "ExecuteTime": {
     "end_time": "2020-10-05T10:11:08.185070Z",
     "start_time": "2020-10-05T10:11:08.178088Z"
    }
   },
   "outputs": [],
   "source": [
    "df['建筑结构'].fillna('钢混结构',inplace=True)"
   ]
  },
  {
   "cell_type": "markdown",
   "metadata": {},
   "source": [
    "#### 装修情况特征清洗"
   ]
  },
  {
   "cell_type": "code",
   "execution_count": 26,
   "metadata": {
    "ExecuteTime": {
     "end_time": "2020-10-05T10:11:08.196041Z",
     "start_time": "2020-10-05T10:11:08.186067Z"
    }
   },
   "outputs": [
    {
     "data": {
      "text/plain": [
       "精装    8870\n",
       "简装    4662\n",
       "毛坯    2135\n",
       "其他      86\n",
       "Name: 装修情况, dtype: int64"
      ]
     },
     "execution_count": 26,
     "metadata": {},
     "output_type": "execute_result"
    }
   ],
   "source": [
    "df['装修情况'].value_counts()"
   ]
  },
  {
   "cell_type": "code",
   "execution_count": 27,
   "metadata": {
    "ExecuteTime": {
     "end_time": "2020-10-05T10:11:08.202534Z",
     "start_time": "2020-10-05T10:11:08.197037Z"
    }
   },
   "outputs": [],
   "source": [
    "df['装修情况'].fillna('精装',inplace=True)"
   ]
  },
  {
   "cell_type": "markdown",
   "metadata": {},
   "source": [
    "#### 配备电梯特征清洗"
   ]
  },
  {
   "cell_type": "markdown",
   "metadata": {},
   "source": [
    "配备电梯这列有空值，进行填充，采取的方法是，根据楼层来判断，一般的楼层大于6的都有电梯，而小于等于6层的一般都没有电梯，所以大于6层的空值填充为“有”，小于6层的空值填充为“无”。"
   ]
  },
  {
   "cell_type": "code",
   "execution_count": 28,
   "metadata": {
    "ExecuteTime": {
     "end_time": "2020-10-05T10:11:08.219489Z",
     "start_time": "2020-10-05T10:11:08.203532Z"
    }
   },
   "outputs": [
    {
     "data": {
      "text/plain": [
       "有    12361\n",
       "无     3858\n",
       "Name: 配备电梯, dtype: int64"
      ]
     },
     "execution_count": 28,
     "metadata": {},
     "output_type": "execute_result"
    }
   ],
   "source": [
    "df.loc[(df['配备电梯'].isnull())&(df['总楼层']>6),'配备电梯']='有'\n",
    "df.loc[(df['配备电梯'].isnull())&(df['总楼层']<=6),'配备电梯']='无'\n",
    "df['配备电梯'].value_counts()"
   ]
  },
  {
   "cell_type": "markdown",
   "metadata": {},
   "source": [
    "#### 房屋年限特征清洗"
   ]
  },
  {
   "cell_type": "code",
   "execution_count": 29,
   "metadata": {
    "ExecuteTime": {
     "end_time": "2020-10-05T10:11:08.227468Z",
     "start_time": "2020-10-05T10:11:08.220486Z"
    }
   },
   "outputs": [
    {
     "data": {
      "text/plain": [
       "满五年     3178\n",
       "满两年     3033\n",
       "未满两年    1039\n",
       "Name: 房屋年限, dtype: int64"
      ]
     },
     "execution_count": 29,
     "metadata": {},
     "output_type": "execute_result"
    }
   ],
   "source": [
    "df['房屋年限'].value_counts()"
   ]
  },
  {
   "cell_type": "markdown",
   "metadata": {},
   "source": [
    "'房屋年限'字段划分不够细致，所以我们用挂牌时间和上次交易时间的差值来重新计算具体年限。"
   ]
  },
  {
   "cell_type": "code",
   "execution_count": 30,
   "metadata": {
    "ExecuteTime": {
     "end_time": "2020-10-05T10:11:08.407527Z",
     "start_time": "2020-10-05T10:11:08.228465Z"
    }
   },
   "outputs": [
    {
     "data": {
      "text/plain": [
       "0.1     659\n",
       "3.0     226\n",
       "4.0     187\n",
       "2.0     168\n",
       "2.2     123\n",
       "       ... \n",
       "30.2      1\n",
       "23.5      1\n",
       "21.7      1\n",
       "24.5      1\n",
       "30.3      1\n",
       "Name: 房屋年限/年, Length: 257, dtype: int64"
      ]
     },
     "execution_count": 30,
     "metadata": {},
     "output_type": "execute_result"
    }
   ],
   "source": [
    "# 转化为日期格式\n",
    "df['挂牌时间'] = pd.to_datetime(df['挂牌时间'])\n",
    "df['上次交易'] = pd.to_datetime(df['上次交易'])\n",
    "df['房屋年限/年'] = df['挂牌时间']-df['上次交易']  # 得到的单位是：天\n",
    "df['房屋年限/年'] = df['房屋年限/年'].map(lambda x: x.days)  # 去掉单位\n",
    "df['房屋年限/年']=df['房屋年限/年'].map(lambda x: '%.1f'%(x/365))  # 转化为年，保留一位小数\n",
    "df['房屋年限/年']=df['房屋年限/年'].astype(np.float64)  # 避免下一步比较失败\n",
    "df['房屋年限/年'][df['房屋年限/年'] <= 0] = 0.1  # 小于0的用0.1表示，便于分箱\n",
    "df['房屋年限/年'].value_counts()"
   ]
  },
  {
   "cell_type": "markdown",
   "metadata": {
    "ExecuteTime": {
     "end_time": "2020-10-02T04:14:11.158107Z",
     "start_time": "2020-10-02T04:14:11.149170Z"
    }
   },
   "source": [
    "'房屋年限/年'这个特征是连续型变量，如果每个年份都作为特征值，并不能找出字段对价格的影响，因为年限划分太细，所以我们将这个连续型数值特征离散化，进行分箱处理。另外，房屋年限/年 特征缺失率为55%，无法补齐，所以空值不填充。"
   ]
  },
  {
   "cell_type": "code",
   "execution_count": 31,
   "metadata": {
    "ExecuteTime": {
     "end_time": "2020-10-05T10:11:08.456397Z",
     "start_time": "2020-10-05T10:11:08.408492Z"
    },
    "scrolled": true
   },
   "outputs": [
    {
     "name": "stdout",
     "output_type": "stream",
     "text": [
      "房屋年限最长是36.0年\n"
     ]
    },
    {
     "data": {
      "text/plain": [
       "nan             8949\n",
       "(2.0, 3.0]      1100\n",
       "(0.0, 1.0]      1032\n",
       "(3.0, 4.0]      1002\n",
       "(1.0, 2.0]       698\n",
       "(4.0, 5.0]       685\n",
       "(5.0, 6.0]       489\n",
       "(9.0, 10.0]      322\n",
       "(6.0, 7.0]       317\n",
       "(7.0, 8.0]       253\n",
       "(10.0, 11.0]     225\n",
       "(8.0, 9.0]       223\n",
       "(11.0, 12.0]     151\n",
       "(12.0, 13.0]     130\n",
       "(13.0, 14.0]     122\n",
       "(15.0, 16.0]     107\n",
       "(14.0, 15.0]      92\n",
       "(16.0, 17.0]      83\n",
       "(17.0, 18.0]      68\n",
       "(19.0, 20.0]      40\n",
       "(20.0, 21.0]      38\n",
       "(18.0, 19.0]      25\n",
       "(21.0, 22.0]      25\n",
       "(24.0, 25.0]      10\n",
       "(22.0, 23.0]      10\n",
       "(23.0, 24.0]       7\n",
       "(30.0, 31.0]       4\n",
       "(27.0, 28.0]       4\n",
       "(25.0, 26.0]       2\n",
       "(33.0, 34.0]       1\n",
       "(31.0, 32.0]       1\n",
       "(35.0, 36.0]       1\n",
       "(29.0, 30.0]       1\n",
       "(28.0, 29.0]       1\n",
       "(26.0, 27.0]       1\n",
       "Name: 房屋年限/年, dtype: int64"
      ]
     },
     "execution_count": 31,
     "metadata": {},
     "output_type": "execute_result"
    }
   ],
   "source": [
    "# 指定区间\n",
    "print('房屋年限最长是{}年'.format(df['房屋年限/年'].max()))\n",
    "bins = [x for x in range(37)]  # 每隔一年一个区间\n",
    "# labels = [str(x) for x in range(1, 37)]\n",
    "df['房屋年限/年'] = pd.cut(df['房屋年限/年'], bins=bins)\n",
    "df['房屋年限/年'] = df['房屋年限/年'].astype(str)\n",
    "df['房屋年限/年'].value_counts()"
   ]
  },
  {
   "cell_type": "markdown",
   "metadata": {},
   "source": [
    "#### 房屋用途特征清洗"
   ]
  },
  {
   "cell_type": "code",
   "execution_count": 32,
   "metadata": {
    "ExecuteTime": {
     "end_time": "2020-10-05T10:11:08.465340Z",
     "start_time": "2020-10-05T10:11:08.457397Z"
    }
   },
   "outputs": [
    {
     "data": {
      "text/plain": [
       "普通住宅     15054\n",
       "商业办公类      561\n",
       "车库         466\n",
       "别墅         137\n",
       "平房           1\n",
       "Name: 房屋用途, dtype: int64"
      ]
     },
     "execution_count": 32,
     "metadata": {},
     "output_type": "execute_result"
    }
   ],
   "source": [
    "df['房屋用途'].value_counts()"
   ]
  },
  {
   "cell_type": "code",
   "execution_count": 33,
   "metadata": {
    "ExecuteTime": {
     "end_time": "2020-10-05T10:11:08.497291Z",
     "start_time": "2020-10-05T10:11:08.466338Z"
    }
   },
   "outputs": [
    {
     "data": {
      "text/html": [
       "<div>\n",
       "<style scoped>\n",
       "    .dataframe tbody tr th:only-of-type {\n",
       "        vertical-align: middle;\n",
       "    }\n",
       "\n",
       "    .dataframe tbody tr th {\n",
       "        vertical-align: top;\n",
       "    }\n",
       "\n",
       "    .dataframe thead th {\n",
       "        text-align: right;\n",
       "    }\n",
       "</style>\n",
       "<table border=\"1\" class=\"dataframe\">\n",
       "  <thead>\n",
       "    <tr style=\"text-align: right;\">\n",
       "      <th></th>\n",
       "      <th>Unnamed: 0</th>\n",
       "      <th>房源链接</th>\n",
       "      <th>总价</th>\n",
       "      <th>总价单位</th>\n",
       "      <th>单价</th>\n",
       "      <th>小区名称</th>\n",
       "      <th>所在大区</th>\n",
       "      <th>所在详细区域</th>\n",
       "      <th>房屋户型</th>\n",
       "      <th>所在楼层</th>\n",
       "      <th>建筑面积</th>\n",
       "      <th>户型结构</th>\n",
       "      <th>套内面积</th>\n",
       "      <th>建筑类型</th>\n",
       "      <th>房屋朝向</th>\n",
       "      <th>建筑结构</th>\n",
       "      <th>装修情况</th>\n",
       "      <th>梯户比例</th>\n",
       "      <th>配备电梯</th>\n",
       "      <th>挂牌时间</th>\n",
       "      <th>交易权属</th>\n",
       "      <th>上次交易</th>\n",
       "      <th>房屋用途</th>\n",
       "      <th>房屋年限</th>\n",
       "      <th>产权所属</th>\n",
       "      <th>抵押信息</th>\n",
       "      <th>房本备件</th>\n",
       "      <th>房源编码</th>\n",
       "      <th>用水类型</th>\n",
       "      <th>用电类型</th>\n",
       "      <th>燃气价格</th>\n",
       "      <th>别墅类型</th>\n",
       "      <th>室</th>\n",
       "      <th>厅</th>\n",
       "      <th>厨</th>\n",
       "      <th>卫</th>\n",
       "      <th>总楼层</th>\n",
       "      <th>房屋年限/年</th>\n",
       "    </tr>\n",
       "  </thead>\n",
       "  <tbody>\n",
       "    <tr>\n",
       "      <th>1117</th>\n",
       "      <td>1117</td>\n",
       "      <td>https://xm.lianjia.com/ershoufang/105103433264...</td>\n",
       "      <td>1800.0</td>\n",
       "      <td>万</td>\n",
       "      <td>79827.0</td>\n",
       "      <td>万科湖心岛</td>\n",
       "      <td>湖里</td>\n",
       "      <td>湖边水库</td>\n",
       "      <td>5室2厅1厨3卫</td>\n",
       "      <td>中楼层</td>\n",
       "      <td>225.49</td>\n",
       "      <td>平层</td>\n",
       "      <td>NaN</td>\n",
       "      <td>板塔结合</td>\n",
       "      <td>西南</td>\n",
       "      <td>钢混结构</td>\n",
       "      <td>毛坯</td>\n",
       "      <td>一梯四户</td>\n",
       "      <td>有</td>\n",
       "      <td>2019-11-26</td>\n",
       "      <td>商品房</td>\n",
       "      <td>NaT</td>\n",
       "      <td>平房</td>\n",
       "      <td>NaN</td>\n",
       "      <td>共有</td>\n",
       "      <td>\\n                                有抵押 500万元 华夏...</td>\n",
       "      <td>未上传房本照片</td>\n",
       "      <td>00017967</td>\n",
       "      <td>NaN</td>\n",
       "      <td>NaN</td>\n",
       "      <td>NaN</td>\n",
       "      <td>NaN</td>\n",
       "      <td>5</td>\n",
       "      <td>2</td>\n",
       "      <td>1</td>\n",
       "      <td>3</td>\n",
       "      <td>5</td>\n",
       "      <td>nan</td>\n",
       "    </tr>\n",
       "  </tbody>\n",
       "</table>\n",
       "</div>"
      ],
      "text/plain": [
       "      Unnamed: 0                                               房源链接      总价  \\\n",
       "1117        1117  https://xm.lianjia.com/ershoufang/105103433264...  1800.0   \n",
       "\n",
       "     总价单位       单价   小区名称 所在大区 所在详细区域      房屋户型 所在楼层    建筑面积 户型结构 套内面积  建筑类型  \\\n",
       "1117    万  79827.0  万科湖心岛   湖里   湖边水库  5室2厅1厨3卫  中楼层  225.49   平层  NaN  板塔结合   \n",
       "\n",
       "     房屋朝向  建筑结构 装修情况  梯户比例 配备电梯       挂牌时间 交易权属 上次交易 房屋用途 房屋年限 产权所属  \\\n",
       "1117   西南  钢混结构   毛坯  一梯四户    有 2019-11-26  商品房  NaT   平房  NaN   共有   \n",
       "\n",
       "                                                   抵押信息     房本备件      房源编码  \\\n",
       "1117  \\n                                有抵押 500万元 华夏...  未上传房本照片  00017967   \n",
       "\n",
       "     用水类型 用电类型 燃气价格 别墅类型  室  厅  厨  卫  总楼层 房屋年限/年  \n",
       "1117  NaN  NaN  NaN  NaN  5  2  1  3    5    nan  "
      ]
     },
     "execution_count": 33,
     "metadata": {},
     "output_type": "execute_result"
    }
   ],
   "source": [
    "df[df['房屋用途']=='平房']"
   ]
  },
  {
   "cell_type": "markdown",
   "metadata": {},
   "source": [
    "房屋用途的平房数据只有一条，怀疑数据录入有误，通过观察这条数据对应的小区名称，根据梯户比例字段，我们把这个房屋用途改为普通住宅"
   ]
  },
  {
   "cell_type": "code",
   "execution_count": 34,
   "metadata": {
    "ExecuteTime": {
     "end_time": "2020-10-05T10:11:08.505235Z",
     "start_time": "2020-10-05T10:11:08.498271Z"
    }
   },
   "outputs": [],
   "source": [
    "df['房屋用途'][df['房屋用途']=='平房']='普通住宅'"
   ]
  },
  {
   "cell_type": "markdown",
   "metadata": {
    "ExecuteTime": {
     "end_time": "2020-10-01T07:27:47.276965Z",
     "start_time": "2020-10-01T07:27:47.068954Z"
    }
   },
   "source": [
    "#### 产权所属特征清洗"
   ]
  },
  {
   "cell_type": "code",
   "execution_count": 35,
   "metadata": {
    "ExecuteTime": {
     "end_time": "2020-10-05T10:11:08.514209Z",
     "start_time": "2020-10-05T10:11:08.506232Z"
    }
   },
   "outputs": [
    {
     "data": {
      "text/plain": [
       "非共有    11669\n",
       "共有      4517\n",
       "Name: 产权所属, dtype: int64"
      ]
     },
     "execution_count": 35,
     "metadata": {},
     "output_type": "execute_result"
    }
   ],
   "source": [
    "df['产权所属'].value_counts()"
   ]
  },
  {
   "cell_type": "code",
   "execution_count": 36,
   "metadata": {
    "ExecuteTime": {
     "end_time": "2020-10-05T10:11:08.520194Z",
     "start_time": "2020-10-05T10:11:08.516237Z"
    }
   },
   "outputs": [],
   "source": [
    "df['产权所属'].fillna('非共有',inplace=True)"
   ]
  },
  {
   "cell_type": "code",
   "execution_count": 37,
   "metadata": {
    "ExecuteTime": {
     "end_time": "2020-10-05T10:11:08.541161Z",
     "start_time": "2020-10-05T10:11:08.521190Z"
    }
   },
   "outputs": [
    {
     "data": {
      "text/plain": [
       "Unnamed: 0    False\n",
       "房源链接          False\n",
       "总价            False\n",
       "总价单位          False\n",
       "单价            False\n",
       "小区名称          False\n",
       "所在大区          False\n",
       "所在详细区域        False\n",
       "房屋户型          False\n",
       "所在楼层          False\n",
       "建筑面积          False\n",
       "户型结构          False\n",
       "套内面积           True\n",
       "建筑类型          False\n",
       "房屋朝向          False\n",
       "建筑结构          False\n",
       "装修情况          False\n",
       "梯户比例           True\n",
       "配备电梯          False\n",
       "挂牌时间          False\n",
       "交易权属          False\n",
       "上次交易           True\n",
       "房屋用途          False\n",
       "房屋年限           True\n",
       "产权所属          False\n",
       "抵押信息          False\n",
       "房本备件          False\n",
       "房源编码           True\n",
       "用水类型           True\n",
       "用电类型           True\n",
       "燃气价格           True\n",
       "别墅类型           True\n",
       "室             False\n",
       "厅             False\n",
       "厨             False\n",
       "卫             False\n",
       "总楼层           False\n",
       "房屋年限/年        False\n",
       "dtype: bool"
      ]
     },
     "execution_count": 37,
     "metadata": {},
     "output_type": "execute_result"
    }
   ],
   "source": [
    "df.isnull().any()"
   ]
  },
  {
   "cell_type": "markdown",
   "metadata": {},
   "source": [
    "## 特征选择"
   ]
  },
  {
   "cell_type": "code",
   "execution_count": 38,
   "metadata": {
    "ExecuteTime": {
     "end_time": "2020-10-05T10:11:08.547131Z",
     "start_time": "2020-10-05T10:11:08.542134Z"
    }
   },
   "outputs": [
    {
     "data": {
      "text/plain": [
       "Index(['Unnamed: 0', '房源链接', '总价', '总价单位', '单价', '小区名称', '所在大区', '所在详细区域',\n",
       "       '房屋户型', '所在楼层', '建筑面积', '户型结构', '套内面积', '建筑类型', '房屋朝向', '建筑结构', '装修情况',\n",
       "       '梯户比例', '配备电梯', '挂牌时间', '交易权属', '上次交易', '房屋用途', '房屋年限', '产权所属', '抵押信息',\n",
       "       '房本备件', '房源编码', '用水类型', '用电类型', '燃气价格', '别墅类型', '室', '厅', '厨', '卫',\n",
       "       '总楼层', '房屋年限/年'],\n",
       "      dtype='object')"
      ]
     },
     "execution_count": 38,
     "metadata": {},
     "output_type": "execute_result"
    }
   ],
   "source": [
    "df.columns"
   ]
  },
  {
   "cell_type": "markdown",
   "metadata": {},
   "source": [
    "Unnamed: 0、房源链接、总价单位、小区名称、梯户比例、房源编码、抵押信息、房本备件、用水类型、用电类型、燃气价格、别墅类型，这些特征可以放弃；  \n",
    "房屋户型 特征已拆分为 '室'、'厅'、'厨'、'卫'4个特征，所以房屋户型特征可以放弃；  \n",
    "建筑面积和套内面积，房源销售以 建筑面积 为准，所以 套内面积 特征可以放弃；  \n",
    "挂牌时间、上次交易特征、房屋年限，这3个特征已经处理为 房屋年限/年 特征，所以这3个特征可以放弃；  \n",
    "总价和单价特征，我们要预测的是房屋总价，所以 单价 特征可以放弃，总价特征作为标签；  "
   ]
  },
  {
   "cell_type": "code",
   "execution_count": 39,
   "metadata": {
    "ExecuteTime": {
     "end_time": "2020-10-05T10:11:08.558118Z",
     "start_time": "2020-10-05T10:11:08.548120Z"
    }
   },
   "outputs": [],
   "source": [
    "# 筛选字段\n",
    "df = df[['总价', '所在大区', '所在详细区域', '所在楼层', '建筑面积', '户型结构', '建筑类型', '房屋朝向', '建筑结构',\n",
    "         '装修情况', '配备电梯', '交易权属', '房屋用途', '产权所属', '总楼层', '房屋年限/年', '室', '厅', '厨', '卫']]\n",
    "\n",
    "# 特征选择 ,'房屋年限/年',空值会导致模型失败\n",
    "features = ['所在大区', '所在详细区域', '所在楼层', '建筑面积', '户型结构', '建筑类型', '房屋朝向', '建筑结构',\n",
    "            '装修情况', '配备电梯', '交易权属', '房屋用途', '产权所属', '总楼层', '房屋年限/年', '室', '厅', '厨', '卫']\n",
    "\n",
    "# 标签选择\n",
    "target = ['总价']"
   ]
  },
  {
   "cell_type": "code",
   "execution_count": 40,
   "metadata": {
    "ExecuteTime": {
     "end_time": "2020-10-05T10:11:08.580034Z",
     "start_time": "2020-10-05T10:11:08.559089Z"
    }
   },
   "outputs": [
    {
     "data": {
      "text/html": [
       "<div>\n",
       "<style scoped>\n",
       "    .dataframe tbody tr th:only-of-type {\n",
       "        vertical-align: middle;\n",
       "    }\n",
       "\n",
       "    .dataframe tbody tr th {\n",
       "        vertical-align: top;\n",
       "    }\n",
       "\n",
       "    .dataframe thead th {\n",
       "        text-align: right;\n",
       "    }\n",
       "</style>\n",
       "<table border=\"1\" class=\"dataframe\">\n",
       "  <thead>\n",
       "    <tr style=\"text-align: right;\">\n",
       "      <th></th>\n",
       "      <th>总价</th>\n",
       "      <th>所在大区</th>\n",
       "      <th>所在详细区域</th>\n",
       "      <th>所在楼层</th>\n",
       "      <th>建筑面积</th>\n",
       "      <th>户型结构</th>\n",
       "      <th>建筑类型</th>\n",
       "      <th>房屋朝向</th>\n",
       "      <th>建筑结构</th>\n",
       "      <th>装修情况</th>\n",
       "      <th>配备电梯</th>\n",
       "      <th>交易权属</th>\n",
       "      <th>房屋用途</th>\n",
       "      <th>产权所属</th>\n",
       "      <th>总楼层</th>\n",
       "      <th>房屋年限/年</th>\n",
       "      <th>室</th>\n",
       "      <th>厅</th>\n",
       "      <th>厨</th>\n",
       "      <th>卫</th>\n",
       "    </tr>\n",
       "  </thead>\n",
       "  <tbody>\n",
       "    <tr>\n",
       "      <th>0</th>\n",
       "      <td>660.0</td>\n",
       "      <td>思明</td>\n",
       "      <td>莲前</td>\n",
       "      <td>低楼层</td>\n",
       "      <td>126.96</td>\n",
       "      <td>平层</td>\n",
       "      <td>板楼</td>\n",
       "      <td>东南</td>\n",
       "      <td>钢混结构</td>\n",
       "      <td>精装</td>\n",
       "      <td>有</td>\n",
       "      <td>商品房</td>\n",
       "      <td>普通住宅</td>\n",
       "      <td>共有</td>\n",
       "      <td>19</td>\n",
       "      <td>(0.0, 1.0]</td>\n",
       "      <td>3</td>\n",
       "      <td>1</td>\n",
       "      <td>1</td>\n",
       "      <td>2</td>\n",
       "    </tr>\n",
       "    <tr>\n",
       "      <th>1</th>\n",
       "      <td>789.7</td>\n",
       "      <td>思明</td>\n",
       "      <td>会展中心</td>\n",
       "      <td>低楼层</td>\n",
       "      <td>149.00</td>\n",
       "      <td>错层</td>\n",
       "      <td>塔楼</td>\n",
       "      <td>东南</td>\n",
       "      <td>框架结构</td>\n",
       "      <td>精装</td>\n",
       "      <td>有</td>\n",
       "      <td>商品房</td>\n",
       "      <td>普通住宅</td>\n",
       "      <td>共有</td>\n",
       "      <td>32</td>\n",
       "      <td>nan</td>\n",
       "      <td>3</td>\n",
       "      <td>2</td>\n",
       "      <td>1</td>\n",
       "      <td>2</td>\n",
       "    </tr>\n",
       "    <tr>\n",
       "      <th>2</th>\n",
       "      <td>1080.0</td>\n",
       "      <td>思明</td>\n",
       "      <td>体育中心</td>\n",
       "      <td>低楼层</td>\n",
       "      <td>133.67</td>\n",
       "      <td>平层</td>\n",
       "      <td>板楼</td>\n",
       "      <td>东南</td>\n",
       "      <td>钢混结构</td>\n",
       "      <td>精装</td>\n",
       "      <td>有</td>\n",
       "      <td>商品房</td>\n",
       "      <td>普通住宅</td>\n",
       "      <td>非共有</td>\n",
       "      <td>31</td>\n",
       "      <td>nan</td>\n",
       "      <td>3</td>\n",
       "      <td>2</td>\n",
       "      <td>1</td>\n",
       "      <td>1</td>\n",
       "    </tr>\n",
       "    <tr>\n",
       "      <th>3</th>\n",
       "      <td>378.0</td>\n",
       "      <td>思明</td>\n",
       "      <td>莲坂</td>\n",
       "      <td>高楼层</td>\n",
       "      <td>78.66</td>\n",
       "      <td>平层</td>\n",
       "      <td>板楼</td>\n",
       "      <td>南</td>\n",
       "      <td>框架结构</td>\n",
       "      <td>简装</td>\n",
       "      <td>无</td>\n",
       "      <td>商品房</td>\n",
       "      <td>普通住宅</td>\n",
       "      <td>非共有</td>\n",
       "      <td>7</td>\n",
       "      <td>nan</td>\n",
       "      <td>3</td>\n",
       "      <td>2</td>\n",
       "      <td>1</td>\n",
       "      <td>1</td>\n",
       "    </tr>\n",
       "    <tr>\n",
       "      <th>4</th>\n",
       "      <td>360.0</td>\n",
       "      <td>思明</td>\n",
       "      <td>仙岳社区</td>\n",
       "      <td>中楼层</td>\n",
       "      <td>87.72</td>\n",
       "      <td>平层</td>\n",
       "      <td>板楼</td>\n",
       "      <td>南</td>\n",
       "      <td>混合结构</td>\n",
       "      <td>精装</td>\n",
       "      <td>无</td>\n",
       "      <td>商品房</td>\n",
       "      <td>普通住宅</td>\n",
       "      <td>共有</td>\n",
       "      <td>7</td>\n",
       "      <td>nan</td>\n",
       "      <td>3</td>\n",
       "      <td>1</td>\n",
       "      <td>1</td>\n",
       "      <td>1</td>\n",
       "    </tr>\n",
       "  </tbody>\n",
       "</table>\n",
       "</div>"
      ],
      "text/plain": [
       "       总价 所在大区 所在详细区域 所在楼层    建筑面积 户型结构 建筑类型 房屋朝向  建筑结构 装修情况 配备电梯 交易权属  房屋用途  \\\n",
       "0   660.0   思明     莲前  低楼层  126.96   平层   板楼   东南  钢混结构   精装    有  商品房  普通住宅   \n",
       "1   789.7   思明   会展中心  低楼层  149.00   错层   塔楼   东南  框架结构   精装    有  商品房  普通住宅   \n",
       "2  1080.0   思明   体育中心  低楼层  133.67   平层   板楼   东南  钢混结构   精装    有  商品房  普通住宅   \n",
       "3   378.0   思明     莲坂  高楼层   78.66   平层   板楼    南  框架结构   简装    无  商品房  普通住宅   \n",
       "4   360.0   思明   仙岳社区  中楼层   87.72   平层   板楼    南  混合结构   精装    无  商品房  普通住宅   \n",
       "\n",
       "  产权所属  总楼层      房屋年限/年  室  厅  厨  卫  \n",
       "0   共有   19  (0.0, 1.0]  3  1  1  2  \n",
       "1   共有   32         nan  3  2  1  2  \n",
       "2  非共有   31         nan  3  2  1  1  \n",
       "3  非共有    7         nan  3  2  1  1  \n",
       "4   共有    7         nan  3  1  1  1  "
      ]
     },
     "execution_count": 40,
     "metadata": {},
     "output_type": "execute_result"
    }
   ],
   "source": [
    "df.head()"
   ]
  },
  {
   "cell_type": "markdown",
   "metadata": {
    "ExecuteTime": {
     "end_time": "2020-10-02T08:07:54.651906Z",
     "start_time": "2020-10-02T08:07:54.638941Z"
    }
   },
   "source": [
    "## 数据转换"
   ]
  },
  {
   "cell_type": "markdown",
   "metadata": {},
   "source": [
    "观察数据可以发现，除了建筑面积、总楼层、室、厅、厨、卫，这些特征是数值格式外，其他特征都是字符串格式，并且没有大小之分，模型将无法处理，因此我们需要把这些字符串转化成数值格式，比如‘所在楼层’字段，有低楼层、中楼层、高楼层3种取值，我们把‘所在楼层’字段分为‘所在楼层=低楼层’、‘所在楼层=中楼层’、‘所在楼层=高楼层’3个字段，数值用0或1来表示。  \n",
    "我们使用 sklearn 特征选择中的 DictVectorizer 类，用它可以处理符号化的对象，将符号转成数字 0/1 进行表示。"
   ]
  },
  {
   "cell_type": "code",
   "execution_count": 41,
   "metadata": {
    "ExecuteTime": {
     "end_time": "2020-10-05T10:11:09.165467Z",
     "start_time": "2020-10-05T10:11:08.582029Z"
    }
   },
   "outputs": [],
   "source": [
    "# DictVectorizer 类，用它将可以处理符号化的对象，将符号转成数字 0/1 进行表示。\n",
    "dvec = DictVectorizer(sparse=False)\n",
    "\n",
    "# 特征矩阵\n",
    "df_features = dvec.fit_transform(df[features].to_dict(orient='record'))\n",
    "\n",
    "# 目标矩阵\n",
    "df_target = df[target].values"
   ]
  },
  {
   "cell_type": "code",
   "execution_count": 42,
   "metadata": {
    "ExecuteTime": {
     "end_time": "2020-10-05T10:11:09.175441Z",
     "start_time": "2020-10-05T10:11:09.166464Z"
    }
   },
   "outputs": [
    {
     "data": {
      "text/plain": [
       "['交易权属=动迁安置房',\n",
       " '交易权属=商品房',\n",
       " '交易权属=房改房',\n",
       " '交易权属=私产',\n",
       " '交易权属=经济适用房',\n",
       " '产权所属=共有',\n",
       " '产权所属=非共有',\n",
       " '卫',\n",
       " '厅',\n",
       " '厨',\n",
       " '室',\n",
       " '建筑类型=塔楼',\n",
       " '建筑类型=平房',\n",
       " '建筑类型=板塔结合',\n",
       " '建筑类型=板楼',\n",
       " '建筑结构=未知结构',\n",
       " '建筑结构=框架结构',\n",
       " '建筑结构=混合结构',\n",
       " '建筑结构=砖木结构',\n",
       " '建筑结构=砖混结构',\n",
       " '建筑结构=钢混结构',\n",
       " '建筑结构=钢结构',\n",
       " '建筑面积',\n",
       " '总楼层',\n",
       " '户型结构=复式',\n",
       " '户型结构=平层',\n",
       " '户型结构=跃层',\n",
       " '户型结构=错层',\n",
       " '房屋年限/年=(0.0, 1.0]',\n",
       " '房屋年限/年=(1.0, 2.0]',\n",
       " '房屋年限/年=(10.0, 11.0]',\n",
       " '房屋年限/年=(11.0, 12.0]',\n",
       " '房屋年限/年=(12.0, 13.0]',\n",
       " '房屋年限/年=(13.0, 14.0]',\n",
       " '房屋年限/年=(14.0, 15.0]',\n",
       " '房屋年限/年=(15.0, 16.0]',\n",
       " '房屋年限/年=(16.0, 17.0]',\n",
       " '房屋年限/年=(17.0, 18.0]',\n",
       " '房屋年限/年=(18.0, 19.0]',\n",
       " '房屋年限/年=(19.0, 20.0]',\n",
       " '房屋年限/年=(2.0, 3.0]',\n",
       " '房屋年限/年=(20.0, 21.0]',\n",
       " '房屋年限/年=(21.0, 22.0]',\n",
       " '房屋年限/年=(22.0, 23.0]',\n",
       " '房屋年限/年=(23.0, 24.0]',\n",
       " '房屋年限/年=(24.0, 25.0]',\n",
       " '房屋年限/年=(25.0, 26.0]',\n",
       " '房屋年限/年=(26.0, 27.0]',\n",
       " '房屋年限/年=(27.0, 28.0]',\n",
       " '房屋年限/年=(28.0, 29.0]',\n",
       " '房屋年限/年=(29.0, 30.0]',\n",
       " '房屋年限/年=(3.0, 4.0]',\n",
       " '房屋年限/年=(30.0, 31.0]',\n",
       " '房屋年限/年=(31.0, 32.0]',\n",
       " '房屋年限/年=(33.0, 34.0]',\n",
       " '房屋年限/年=(35.0, 36.0]',\n",
       " '房屋年限/年=(4.0, 5.0]',\n",
       " '房屋年限/年=(5.0, 6.0]',\n",
       " '房屋年限/年=(6.0, 7.0]',\n",
       " '房屋年限/年=(7.0, 8.0]',\n",
       " '房屋年限/年=(8.0, 9.0]',\n",
       " '房屋年限/年=(9.0, 10.0]',\n",
       " '房屋年限/年=nan',\n",
       " '房屋朝向=东',\n",
       " '房屋朝向=东北',\n",
       " '房屋朝向=东南',\n",
       " '房屋朝向=北',\n",
       " '房屋朝向=南',\n",
       " '房屋朝向=西',\n",
       " '房屋朝向=西北',\n",
       " '房屋朝向=西南',\n",
       " '房屋用途=别墅',\n",
       " '房屋用途=商业办公类',\n",
       " '房屋用途=普通住宅',\n",
       " '房屋用途=车库',\n",
       " '所在大区=同安',\n",
       " '所在大区=思明',\n",
       " '所在大区=海沧',\n",
       " '所在大区=湖里',\n",
       " '所在大区=翔安',\n",
       " '所在大区=集美',\n",
       " '所在楼层=中楼层',\n",
       " '所在楼层=低楼层',\n",
       " '所在楼层=地下室',\n",
       " '所在楼层=高楼层',\n",
       " '所在详细区域=SM',\n",
       " '所在详细区域=七星路',\n",
       " '所在详细区域=万达广场',\n",
       " '所在详细区域=东孚',\n",
       " '所在详细区域=东渡',\n",
       " '所在详细区域=中山路',\n",
       " '所在详细区域=五缘湾',\n",
       " '所在详细区域=仙岳社区',\n",
       " '所在详细区域=会展中心',\n",
       " '所在详细区域=体育中心',\n",
       " '所在详细区域=保税区',\n",
       " '所在详细区域=公园小学及周边',\n",
       " '所在详细区域=前埔',\n",
       " '所在详细区域=南山路',\n",
       " '所在详细区域=厦大',\n",
       " '所在详细区域=厦门北站商业区',\n",
       " '所在详细区域=同安其它',\n",
       " '所在详细区域=同安区',\n",
       " '所在详细区域=外国语学校',\n",
       " '所在详细区域=大唐世家',\n",
       " '所在详细区域=大嶝岛',\n",
       " '所在详细区域=实验小学及周边',\n",
       " '所在详细区域=富山',\n",
       " '所在详细区域=岳阳社区',\n",
       " '所在详细区域=市政府',\n",
       " '所在详细区域=思北',\n",
       " '所在详细区域=思明南路',\n",
       " '所在详细区域=文园路',\n",
       " '所在详细区域=文灶',\n",
       " '所在详细区域=斗西路',\n",
       " '所在详细区域=新店',\n",
       " '所在详细区域=新阳工业区',\n",
       " '所在详细区域=曾厝垵',\n",
       " '所在详细区域=未来海岸北师大',\n",
       " '所在详细区域=机场区',\n",
       " '所在详细区域=杏东',\n",
       " '所在详细区域=杏北',\n",
       " '所在详细区域=杏南',\n",
       " '所在详细区域=杏林桥头',\n",
       " '所在详细区域=杏西',\n",
       " '所在详细区域=杏锦路',\n",
       " '所在详细区域=松柏',\n",
       " '所在详细区域=枋湖',\n",
       " '所在详细区域=槟榔',\n",
       " '所在详细区域=殿前',\n",
       " '所在详细区域=江头',\n",
       " '所在详细区域=海沧体育中心',\n",
       " '所在详细区域=海沧农场',\n",
       " '所在详细区域=海沧区政府',\n",
       " '所在详细区域=海沧外国语片区',\n",
       " '所在详细区域=海沧生活区',\n",
       " '所在详细区域=湖边水库',\n",
       " '所在详细区域=湖里大道',\n",
       " '所在详细区域=滨东',\n",
       " '所在详细区域=滨海社区',\n",
       " '所在详细区域=灌口',\n",
       " '所在详细区域=火车站',\n",
       " '所在详细区域=环东海域',\n",
       " '所在详细区域=瑞景',\n",
       " '所在详细区域=白鹭洲',\n",
       " '所在详细区域=祥店',\n",
       " '所在详细区域=禾祥东路',\n",
       " '所在详细区域=禾祥西路',\n",
       " '所在详细区域=翔安其他',\n",
       " '所在详细区域=翔安新城',\n",
       " '所在详细区域=莲前',\n",
       " '所在详细区域=莲坂',\n",
       " '所在详细区域=莲花',\n",
       " '所在详细区域=莲花一村',\n",
       " '所在详细区域=观音山',\n",
       " '所在详细区域=软件园',\n",
       " '所在详细区域=邮轮城',\n",
       " '所在详细区域=金尚',\n",
       " '所在详细区域=金山',\n",
       " '所在详细区域=金鸡亭',\n",
       " '所在详细区域=锦园',\n",
       " '所在详细区域=集美其它',\n",
       " '所在详细区域=集美文教区',\n",
       " '所在详细区域=集美新城',\n",
       " '所在详细区域=马巷',\n",
       " '所在详细区域=马銮湾',\n",
       " '所在详细区域=黄厝',\n",
       " '所在详细区域=鼓浪屿',\n",
       " '装修情况=其他',\n",
       " '装修情况=毛坯',\n",
       " '装修情况=简装',\n",
       " '装修情况=精装',\n",
       " '配备电梯=无',\n",
       " '配备电梯=有']"
      ]
     },
     "execution_count": 42,
     "metadata": {},
     "output_type": "execute_result"
    }
   ],
   "source": [
    "dvec.feature_names_"
   ]
  },
  {
   "cell_type": "code",
   "execution_count": 43,
   "metadata": {
    "ExecuteTime": {
     "end_time": "2020-10-05T10:11:09.181424Z",
     "start_time": "2020-10-05T10:11:09.177435Z"
    }
   },
   "outputs": [
    {
     "data": {
      "text/plain": [
       "174"
      ]
     },
     "execution_count": 43,
     "metadata": {},
     "output_type": "execute_result"
    }
   ],
   "source": [
    "len(dvec.feature_names_)"
   ]
  },
  {
   "cell_type": "markdown",
   "metadata": {},
   "source": [
    "## 划分训练集和测试集"
   ]
  },
  {
   "cell_type": "code",
   "execution_count": 44,
   "metadata": {
    "ExecuteTime": {
     "end_time": "2020-10-05T10:11:09.200375Z",
     "start_time": "2020-10-05T10:11:09.182422Z"
    }
   },
   "outputs": [],
   "source": [
    "train_x, test_x, train_y, test_y = train_test_split(\n",
    "    df_features, df_target, test_size=0.3, random_state=1)"
   ]
  },
  {
   "cell_type": "markdown",
   "metadata": {},
   "source": [
    "## 构建模型"
   ]
  },
  {
   "cell_type": "markdown",
   "metadata": {},
   "source": [
    "### 决策树回归"
   ]
  },
  {
   "cell_type": "code",
   "execution_count": 45,
   "metadata": {
    "ExecuteTime": {
     "end_time": "2020-10-05T10:11:09.427786Z",
     "start_time": "2020-10-05T10:11:09.202368Z"
    }
   },
   "outputs": [
    {
     "name": "stdout",
     "output_type": "stream",
     "text": [
      "决策树平均绝对误差 = 49.44\n",
      "决策树回归均方误差 = 10562.21\n",
      "决策树回归拟合度 = 0.8873\n"
     ]
    }
   ],
   "source": [
    "# 使用 CART 决策树回归模型\n",
    "dec_regressor = DecisionTreeRegressor(random_state=7)\n",
    "\n",
    "# 模型训练\n",
    "dec_regressor.fit(train_x, train_y)\n",
    "\n",
    "# 模型预测\n",
    "pred_y = dec_regressor.predict(test_x)\n",
    "\n",
    "# 回归模型判定指标\n",
    "mae=mean_absolute_error(test_y, pred_y)\n",
    "mse = mean_squared_error(test_y, pred_y)\n",
    "r2 = r2_score(test_y, pred_y)\n",
    "\n",
    "print(\"决策树平均绝对误差 = {:.2f}\".format(mae))\n",
    "print(\"决策树回归均方误差 = {:.2f}\".format(mse))\n",
    "print(\"决策树回归拟合度 = {:.4f}\".format(r2))"
   ]
  },
  {
   "cell_type": "markdown",
   "metadata": {},
   "source": [
    "决策树回归模型拟合度是 0.8873，均方误差是 10562.21。"
   ]
  },
  {
   "cell_type": "markdown",
   "metadata": {},
   "source": [
    "### KNN回归"
   ]
  },
  {
   "cell_type": "code",
   "execution_count": 46,
   "metadata": {
    "ExecuteTime": {
     "end_time": "2020-10-05T10:11:10.436650Z",
     "start_time": "2020-10-05T10:11:09.428784Z"
    }
   },
   "outputs": [
    {
     "name": "stdout",
     "output_type": "stream",
     "text": [
      "KNN 平均绝对误差 = 80.38\n",
      "KNN 回归均方误差 = 30247.87\n",
      "KNN 回归拟合度 = 0.6773\n"
     ]
    }
   ],
   "source": [
    "# 使用KNN回归模型\n",
    "knn_regressor = KNeighborsRegressor()\n",
    "knn_regressor.fit(train_x, train_y)\n",
    "pred_y = knn_regressor.predict(test_x)\n",
    "mae=mean_absolute_error(test_y, pred_y)\n",
    "mse = mean_squared_error(test_y, pred_y)\n",
    "r2 = r2_score(test_y, pred_y)\n",
    "\n",
    "print(\"KNN 平均绝对误差 = {:.2f}\".format(mae))\n",
    "print(\"KNN 回归均方误差 = {:.2f}\".format(mse))\n",
    "print(\"KNN 回归拟合度 = {:.4f}\".format(r2))"
   ]
  },
  {
   "cell_type": "markdown",
   "metadata": {},
   "source": [
    "KNN 模型拟合度比决策树低，均方误差比决策树大。"
   ]
  },
  {
   "cell_type": "markdown",
   "metadata": {},
   "source": [
    "### 线性回归"
   ]
  },
  {
   "cell_type": "code",
   "execution_count": 47,
   "metadata": {
    "ExecuteTime": {
     "end_time": "2020-10-05T10:11:10.515439Z",
     "start_time": "2020-10-05T10:11:10.437647Z"
    }
   },
   "outputs": [
    {
     "name": "stdout",
     "output_type": "stream",
     "text": [
      "线性回归平均绝对误差 = 12207363.98\n",
      "线性回归均方误差 = 328071110826258624.00\n",
      "线性回归拟合度 = -3499815801419.3745\n"
     ]
    }
   ],
   "source": [
    "# 使用线性回归模型\n",
    "line_regressor = LinearRegression()\n",
    "line_regressor.fit(train_x, train_y)\n",
    "pred_y = line_regressor.predict(test_x)\n",
    "mae=mean_absolute_error(test_y, pred_y)\n",
    "mse = mean_squared_error(test_y, pred_y)\n",
    "r2 = r2_score(test_y, pred_y)\n",
    "\n",
    "print(\"线性回归平均绝对误差 = {:.2f}\".format(mae))\n",
    "print(\"线性回归均方误差 = {:.2f}\".format(mse))\n",
    "print(\"线性回归拟合度 = {:.4f}\".format(r2))"
   ]
  },
  {
   "cell_type": "markdown",
   "metadata": {},
   "source": [
    "线性回归拟合度<0，模型无效"
   ]
  },
  {
   "cell_type": "markdown",
   "metadata": {},
   "source": [
    "### AdaBoost 回归"
   ]
  },
  {
   "cell_type": "code",
   "execution_count": 48,
   "metadata": {
    "ExecuteTime": {
     "end_time": "2020-10-05T10:11:25.919277Z",
     "start_time": "2020-10-05T10:11:10.517435Z"
    }
   },
   "outputs": [
    {
     "name": "stdout",
     "output_type": "stream",
     "text": [
      "AdaBoost 平均绝对误差 = 39.42\n",
      "AdaBoost 回归均方误差 = 6665.84\n",
      "AdaBoost 回归拟合度 = 0.9289\n"
     ]
    }
   ],
   "source": [
    "# 使用 AdaBoost 回归模型，模型采用 CART 决策树，迭代100次\n",
    "ada_regressor = AdaBoostRegressor(\n",
    "    base_estimator=dec_regressor, n_estimators=100)\n",
    "\n",
    "# 模型训练\n",
    "ada_regressor.fit(train_x, train_y)\n",
    "\n",
    "# 模型预测\n",
    "pred_y = ada_regressor.predict(test_x)\n",
    "\n",
    "# 模型判定指标\n",
    "mae = mean_absolute_error(test_y, pred_y)\n",
    "mse = mean_squared_error(test_y, pred_y)\n",
    "r2 = r2_score(test_y, pred_y)\n",
    "\n",
    "print(\"AdaBoost 平均绝对误差 = {:.2f}\".format(mae))\n",
    "print(\"AdaBoost 回归均方误差 = {:.2f}\".format(mse))\n",
    "print(\"AdaBoost 回归拟合度 = {:.4f}\".format(r2))"
   ]
  },
  {
   "cell_type": "markdown",
   "metadata": {},
   "source": [
    "KNN 模型拟合度0.68，线性回归模型拟合度小于0，决策树模型拟合度0.887，比前两个都要高，说明决策树模型更优， AdaBoost 在决策树模型的基础上，迭代100次，模型的拟合度从 0.887 提升到 0.9289。"
   ]
  },
  {
   "cell_type": "markdown",
   "metadata": {},
   "source": [
    "## 模型调优"
   ]
  },
  {
   "cell_type": "code",
   "execution_count": 52,
   "metadata": {
    "ExecuteTime": {
     "end_time": "2020-10-05T10:13:09.721025Z",
     "start_time": "2020-10-05T10:12:49.484656Z"
    }
   },
   "outputs": [
    {
     "name": "stdout",
     "output_type": "stream",
     "text": [
      "GridSearch 最优参数：{'max_depth': 19}\n",
      "GridSearch 均方误差 = 10281.91\n",
      "GridSearch 最优拟合度：0.8903\n"
     ]
    },
    {
     "data": {
      "text/plain": [
       "GridSearchCV(cv=KFold(n_splits=10, random_state=None, shuffle=True),\n",
       "             estimator=DecisionTreeRegressor(random_state=7),\n",
       "             param_grid=[{'max_depth': [0, 1, 2, 3, 4, 5, 6, 7, 8, 9, 10, 11,\n",
       "                                        12, 13, 14, 15, 16, 17, 18, 19]}],\n",
       "             scoring=make_scorer(get_r2))"
      ]
     },
     "execution_count": 52,
     "metadata": {},
     "output_type": "execute_result"
    }
   ],
   "source": [
    "# 定义函数，计算拟合度R2\n",
    "def get_r2(test_y, pred_y):\n",
    "    score = r2_score(test_y, pred_y)\n",
    "    return score\n",
    "\n",
    "# 决策树深度取值范围\n",
    "regressor_param_grid = [{'max_depth': [x for x in range(20)]}]\n",
    "\n",
    "# 定义函数，对模型进行 GridSearchCV 参数调优\n",
    "def GridSearchCV_work(model, train_x, train_y, test_x, test_y, param_grid):\n",
    "    cross_validation = KFold(10, shuffle=True)\n",
    "    response = {}\n",
    "    score = make_scorer(get_r2)\n",
    "    gridsearch = GridSearchCV(\n",
    "        estimator=model, param_grid=param_grid, scoring=score, cv=cross_validation)\n",
    "\n",
    "    # 模型训练\n",
    "    search = gridsearch.fit(train_x, train_y)\n",
    "    \n",
    "    # 模型预测\n",
    "    pred_y = gridsearch.predict(test_x)\n",
    "    \n",
    "    # 模型评估\n",
    "    mse = mean_squared_error(test_y, pred_y)\n",
    "    r2 = get_r2(test_y, pred_y)\n",
    "\n",
    "    print('GridSearch 最优参数：{}'.format(search.best_params_))\n",
    "    print(\"GridSearch 均方误差 = {:.2f}\".format(mse))\n",
    "    print('GridSearch 最优拟合度：{:.4f}'.format(r2))\n",
    "\n",
    "    response['predict_y'] = pred_y\n",
    "    response['回归拟合度'] = r2\n",
    "\n",
    "    return gridsearch, response\n",
    "\n",
    "\n",
    "search = GridSearchCV_work(dec_regressor, train_x,\n",
    "                           train_y, test_x, test_y, regressor_param_grid)[0]\n",
    "search"
   ]
  },
  {
   "cell_type": "markdown",
   "metadata": {
    "ExecuteTime": {
     "end_time": "2020-10-05T08:00:47.382194Z",
     "start_time": "2020-10-05T08:00:47.377232Z"
    }
   },
   "source": [
    "调优之后的决策树模型，拟合度从原来的 0.8873 提升到了 0.8903，说明模型预估效果更好，用最佳的决策树深度重新建模。"
   ]
  },
  {
   "cell_type": "code",
   "execution_count": 53,
   "metadata": {
    "ExecuteTime": {
     "end_time": "2020-10-05T10:13:59.367459Z",
     "start_time": "2020-10-05T10:13:44.570342Z"
    }
   },
   "outputs": [
    {
     "name": "stdout",
     "output_type": "stream",
     "text": [
      "AdaBoost 平均绝对误差 = 39.40\n",
      "AdaBoost 回归均方误差 = 6178.60\n",
      "AdaBoost 回归拟合度 = 0.9341\n"
     ]
    }
   ],
   "source": [
    "# 使用 CART 决策树回归新建模型\n",
    "new_dec_regressor = DecisionTreeRegressor(max_depth=19,random_state=7)\n",
    "\n",
    "# 重新使用 AdaBoost 回归模型，模型采用新 CART 决策树，迭代100次\n",
    "new_ada_regressor = AdaBoostRegressor(\n",
    "    base_estimator=new_dec_regressor, n_estimators=100)\n",
    "\n",
    "# 模型训练\n",
    "new_ada_regressor.fit(train_x, train_y)\n",
    "\n",
    "# 模型预测\n",
    "pred_y = new_ada_regressor.predict(test_x)\n",
    "\n",
    "# 模型评估指标\n",
    "mae=mean_absolute_error(test_y, pred_y)\n",
    "mse = mean_squared_error(test_y, pred_y)\n",
    "r2 = r2_score(test_y, pred_y)\n",
    "\n",
    "print(\"AdaBoost 平均绝对误差 = {:.2f}\".format(mae))\n",
    "print(\"AdaBoost 回归均方误差 = {:.2f}\".format(mse))\n",
    "print(\"AdaBoost 回归拟合度 = {:.4f}\".format(r2))"
   ]
  },
  {
   "cell_type": "markdown",
   "metadata": {},
   "source": [
    "升级之后的 AdaBoost 强回归模型，拟合度0.9341，比原来的 AdaBoost 回归模型拟合度 0.9289 提升了0.052，均方误差降低了487.24。"
   ]
  },
  {
   "cell_type": "markdown",
   "metadata": {},
   "source": [
    "## 总结\n",
    "本项目基于厦门二手房在售房源数据，构建了一个参数调优之后的 AdaBoost 回归模型，拟合度达到0.9341，模型预测效果还不错。\n",
    "完整的数据挖掘流程到这里就结束了，模型还有一个可以改善的地方：  \n",
    "- 特征选择部分，模型还可以有更多的特征输入，比如是否学区房、离地铁站距离、空气质量情况、附近购物中心等等，现实世界里这些特征都会对房价产生一定的影响，我们采集到的数据不包含这些特征。\n",
    "- 可以采用其他更优的算法搭建模型，让模型预测的准确率更好。"
   ]
  },
  {
   "cell_type": "code",
   "execution_count": null,
   "metadata": {},
   "outputs": [],
   "source": []
  }
 ],
 "metadata": {
  "kernelspec": {
   "display_name": "Python 3",
   "language": "python",
   "name": "python3"
  },
  "language_info": {
   "codemirror_mode": {
    "name": "ipython",
    "version": 3
   },
   "file_extension": ".py",
   "mimetype": "text/x-python",
   "name": "python",
   "nbconvert_exporter": "python",
   "pygments_lexer": "ipython3",
   "version": "3.7.7"
  },
  "toc": {
   "base_numbering": 1,
   "nav_menu": {},
   "number_sections": true,
   "sideBar": true,
   "skip_h1_title": false,
   "title_cell": "Table of Contents",
   "title_sidebar": "Contents",
   "toc_cell": false,
   "toc_position": {},
   "toc_section_display": true,
   "toc_window_display": false
  },
  "varInspector": {
   "cols": {
    "lenName": 16,
    "lenType": 16,
    "lenVar": 40
   },
   "kernels_config": {
    "python": {
     "delete_cmd_postfix": "",
     "delete_cmd_prefix": "del ",
     "library": "var_list.py",
     "varRefreshCmd": "print(var_dic_list())"
    },
    "r": {
     "delete_cmd_postfix": ") ",
     "delete_cmd_prefix": "rm(",
     "library": "var_list.r",
     "varRefreshCmd": "cat(var_dic_list()) "
    }
   },
   "types_to_exclude": [
    "module",
    "function",
    "builtin_function_or_method",
    "instance",
    "_Feature"
   ],
   "window_display": false
  }
 },
 "nbformat": 4,
 "nbformat_minor": 4
}
